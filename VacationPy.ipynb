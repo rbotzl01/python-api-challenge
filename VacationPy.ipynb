{
 "cells": [
  {
   "cell_type": "markdown",
   "metadata": {},
   "source": [
    "# VacationPy\n",
    "----\n",
    "\n",
    "#### Note\n",
    "* Keep an eye on your API usage. Use https://developers.google.com/maps/reporting/gmp-reporting as reference for how to monitor your usage and billing.\n",
    "\n",
    "* Instructions have been included for each segment. You do not have to follow them exactly, but they are included to help you think through the steps."
   ]
  },
  {
   "cell_type": "code",
   "execution_count": 14,
   "metadata": {},
   "outputs": [
    {
     "name": "stderr",
     "output_type": "stream",
     "text": [
      "Enabling notebook extension jupyter-js-widgets/extension...\n",
      "      - Validating: ok\n"
     ]
    },
    {
     "name": "stdout",
     "output_type": "stream",
     "text": [
      "Collecting package metadata (current_repodata.json): ...working... done\n",
      "Solving environment: ...working... done\n",
      "\n",
      "# All requested packages already installed.\n",
      "\n"
     ]
    },
    {
     "name": "stderr",
     "output_type": "stream",
     "text": [
      "Enabling notebook extension jupyter-gmaps/extension...\n",
      "      - Validating: ok\n"
     ]
    }
   ],
   "source": [
    "!jupyter nbextension enable --py --sys-prefix widgetsnbextension\n",
    "\n",
    "!conda install -c conda-forge gmaps\n",
    "\n",
    "!jupyter nbextension enable --py --sys-prefix gmaps"
   ]
  },
  {
   "cell_type": "code",
   "execution_count": 56,
   "metadata": {},
   "outputs": [],
   "source": [
    "# Dependencies and Setup\n",
    "import matplotlib.pyplot as plt\n",
    "import pandas as pd\n",
    "import numpy as np\n",
    "import requests\n",
    "import gmaps\n",
    "import os\n",
    "\n",
    "# Import API key\n",
    "from api_keys import g_key"
   ]
  },
  {
   "cell_type": "markdown",
   "metadata": {},
   "source": [
    "### Store Part I results into DataFrame\n",
    "* Load the csv exported in Part I to a DataFrame"
   ]
  },
  {
   "cell_type": "code",
   "execution_count": 17,
   "metadata": {},
   "outputs": [
    {
     "data": {
      "text/html": [
       "<div>\n",
       "<style scoped>\n",
       "    .dataframe tbody tr th:only-of-type {\n",
       "        vertical-align: middle;\n",
       "    }\n",
       "\n",
       "    .dataframe tbody tr th {\n",
       "        vertical-align: top;\n",
       "    }\n",
       "\n",
       "    .dataframe thead th {\n",
       "        text-align: right;\n",
       "    }\n",
       "</style>\n",
       "<table border=\"1\" class=\"dataframe\">\n",
       "  <thead>\n",
       "    <tr style=\"text-align: right;\">\n",
       "      <th></th>\n",
       "      <th>city</th>\n",
       "      <th>lat</th>\n",
       "      <th>lng</th>\n",
       "      <th>max_temp</th>\n",
       "      <th>humidity</th>\n",
       "      <th>cloudiness</th>\n",
       "      <th>wind_speed</th>\n",
       "      <th>country</th>\n",
       "      <th>date</th>\n",
       "    </tr>\n",
       "  </thead>\n",
       "  <tbody>\n",
       "    <tr>\n",
       "      <th>0</th>\n",
       "      <td>Ilulissat</td>\n",
       "      <td>69.2167</td>\n",
       "      <td>-51.1000</td>\n",
       "      <td>21.20</td>\n",
       "      <td>68</td>\n",
       "      <td>20</td>\n",
       "      <td>5.75</td>\n",
       "      <td>GL</td>\n",
       "      <td>1614940588</td>\n",
       "    </tr>\n",
       "    <tr>\n",
       "      <th>1</th>\n",
       "      <td>North Bend</td>\n",
       "      <td>43.4065</td>\n",
       "      <td>-124.2243</td>\n",
       "      <td>53.60</td>\n",
       "      <td>54</td>\n",
       "      <td>90</td>\n",
       "      <td>13.80</td>\n",
       "      <td>US</td>\n",
       "      <td>1614940467</td>\n",
       "    </tr>\n",
       "    <tr>\n",
       "      <th>2</th>\n",
       "      <td>Ondjiva</td>\n",
       "      <td>-17.0667</td>\n",
       "      <td>15.7333</td>\n",
       "      <td>87.80</td>\n",
       "      <td>30</td>\n",
       "      <td>20</td>\n",
       "      <td>5.75</td>\n",
       "      <td>AO</td>\n",
       "      <td>1614940588</td>\n",
       "    </tr>\n",
       "    <tr>\n",
       "      <th>3</th>\n",
       "      <td>East London</td>\n",
       "      <td>-33.0153</td>\n",
       "      <td>27.9116</td>\n",
       "      <td>75.20</td>\n",
       "      <td>60</td>\n",
       "      <td>20</td>\n",
       "      <td>16.11</td>\n",
       "      <td>ZA</td>\n",
       "      <td>1614940588</td>\n",
       "    </tr>\n",
       "    <tr>\n",
       "      <th>4</th>\n",
       "      <td>Krutikha</td>\n",
       "      <td>53.9599</td>\n",
       "      <td>81.2093</td>\n",
       "      <td>24.04</td>\n",
       "      <td>83</td>\n",
       "      <td>81</td>\n",
       "      <td>17.72</td>\n",
       "      <td>RU</td>\n",
       "      <td>1614940589</td>\n",
       "    </tr>\n",
       "  </tbody>\n",
       "</table>\n",
       "</div>"
      ],
      "text/plain": [
       "          city      lat       lng  max_temp  humidity  cloudiness  wind_speed  \\\n",
       "0    Ilulissat  69.2167  -51.1000     21.20        68          20        5.75   \n",
       "1   North Bend  43.4065 -124.2243     53.60        54          90       13.80   \n",
       "2      Ondjiva -17.0667   15.7333     87.80        30          20        5.75   \n",
       "3  East London -33.0153   27.9116     75.20        60          20       16.11   \n",
       "4     Krutikha  53.9599   81.2093     24.04        83          81       17.72   \n",
       "\n",
       "  country        date  \n",
       "0      GL  1614940588  \n",
       "1      US  1614940467  \n",
       "2      AO  1614940588  \n",
       "3      ZA  1614940588  \n",
       "4      RU  1614940589  "
      ]
     },
     "execution_count": 17,
     "metadata": {},
     "output_type": "execute_result"
    }
   ],
   "source": [
    "input_file = \"Output/city_weather_data.csv\"\n",
    "weather_data = pd.read_csv(input_file)\n",
    "weather_data.head()"
   ]
  },
  {
   "cell_type": "markdown",
   "metadata": {},
   "source": [
    "### Humidity Heatmap\n",
    "* Configure gmaps.\n",
    "* Use the Lat and Lng as locations and Humidity as the weight.\n",
    "* Add Heatmap layer to map."
   ]
  },
  {
   "cell_type": "code",
   "execution_count": 19,
   "metadata": {},
   "outputs": [],
   "source": [
    "# Configure gmaps with API key\n",
    "gmaps.configure(api_key=g_key)"
   ]
  },
  {
   "cell_type": "code",
   "execution_count": 22,
   "metadata": {},
   "outputs": [
    {
     "data": {
      "text/html": [
       "<div>\n",
       "<style scoped>\n",
       "    .dataframe tbody tr th:only-of-type {\n",
       "        vertical-align: middle;\n",
       "    }\n",
       "\n",
       "    .dataframe tbody tr th {\n",
       "        vertical-align: top;\n",
       "    }\n",
       "\n",
       "    .dataframe thead th {\n",
       "        text-align: right;\n",
       "    }\n",
       "</style>\n",
       "<table border=\"1\" class=\"dataframe\">\n",
       "  <thead>\n",
       "    <tr style=\"text-align: right;\">\n",
       "      <th></th>\n",
       "      <th>lat</th>\n",
       "      <th>lng</th>\n",
       "    </tr>\n",
       "  </thead>\n",
       "  <tbody>\n",
       "    <tr>\n",
       "      <th>0</th>\n",
       "      <td>69.2167</td>\n",
       "      <td>-51.1000</td>\n",
       "    </tr>\n",
       "    <tr>\n",
       "      <th>1</th>\n",
       "      <td>43.4065</td>\n",
       "      <td>-124.2243</td>\n",
       "    </tr>\n",
       "    <tr>\n",
       "      <th>2</th>\n",
       "      <td>-17.0667</td>\n",
       "      <td>15.7333</td>\n",
       "    </tr>\n",
       "    <tr>\n",
       "      <th>3</th>\n",
       "      <td>-33.0153</td>\n",
       "      <td>27.9116</td>\n",
       "    </tr>\n",
       "    <tr>\n",
       "      <th>4</th>\n",
       "      <td>53.9599</td>\n",
       "      <td>81.2093</td>\n",
       "    </tr>\n",
       "  </tbody>\n",
       "</table>\n",
       "</div>"
      ],
      "text/plain": [
       "       lat       lng\n",
       "0  69.2167  -51.1000\n",
       "1  43.4065 -124.2243\n",
       "2 -17.0667   15.7333\n",
       "3 -33.0153   27.9116\n",
       "4  53.9599   81.2093"
      ]
     },
     "execution_count": 22,
     "metadata": {},
     "output_type": "execute_result"
    }
   ],
   "source": [
    "# Store 'Lat' and 'Lng' into  locations \n",
    "locations = weather_data[[\"lat\", \"lng\"]].astype(float)\n",
    "locations.head()"
   ]
  },
  {
   "cell_type": "code",
   "execution_count": 25,
   "metadata": {},
   "outputs": [
    {
     "data": {
      "text/plain": [
       "0    68.0\n",
       "1    54.0\n",
       "2    30.0\n",
       "3    60.0\n",
       "4    83.0\n",
       "Name: humidity, dtype: float64"
      ]
     },
     "execution_count": 25,
     "metadata": {},
     "output_type": "execute_result"
    }
   ],
   "source": [
    "# Fill NaN values and convert to float\n",
    "humidity = weather_data[\"humidity\"].astype(float)\n",
    "humidity.head()"
   ]
  },
  {
   "cell_type": "code",
   "execution_count": 27,
   "metadata": {
    "scrolled": true
   },
   "outputs": [
    {
     "data": {
      "application/vnd.jupyter.widget-view+json": {
       "model_id": "b75c9884e1b64e9695c148ddcb6a3b18",
       "version_major": 2,
       "version_minor": 0
      },
      "text/plain": [
       "Figure(layout=FigureLayout(height='420px'))"
      ]
     },
     "metadata": {},
     "output_type": "display_data"
    }
   ],
   "source": [
    "# Plot Heatmap\n",
    "fig = gmaps.figure()\n",
    "\n",
    "# Create heat layer\n",
    "heat_layer = gmaps.heatmap_layer(locations, weights=humidity, \n",
    "                                 dissipating=False, max_intensity=10,\n",
    "                                 point_radius=1)\n",
    "# Add layer\n",
    "fig.add_layer(heat_layer)\n",
    "\n",
    "# Display figure\n",
    "fig"
   ]
  },
  {
   "cell_type": "code",
   "execution_count": null,
   "metadata": {},
   "outputs": [],
   "source": []
  },
  {
   "cell_type": "code",
   "execution_count": null,
   "metadata": {},
   "outputs": [],
   "source": []
  },
  {
   "cell_type": "code",
   "execution_count": null,
   "metadata": {},
   "outputs": [],
   "source": []
  },
  {
   "cell_type": "markdown",
   "metadata": {},
   "source": [
    "### Create new DataFrame fitting weather criteria\n",
    "* Narrow down the cities to fit weather conditions.\n",
    "* Drop any rows will null values."
   ]
  },
  {
   "cell_type": "code",
   "execution_count": 32,
   "metadata": {},
   "outputs": [],
   "source": [
    "hotel_df=weather_data.loc[(weather_data['max_temp'] < 80) & (weather_data['max_temp'] > 70) & (weather_data['wind_speed'] < 10) & (weather_data['cloudiness'] == 0)]"
   ]
  },
  {
   "cell_type": "markdown",
   "metadata": {},
   "source": [
    "### Hotel Map\n",
    "* Store into variable named `hotel_df`.\n",
    "* Add a \"Hotel Name\" column to the DataFrame.\n",
    "* Set parameters to search for hotels with 5000 meters.\n",
    "* Hit the Google Places API for each city's coordinates.\n",
    "* Store the first Hotel result into the DataFrame.\n",
    "* Plot markers on top of the heatmap."
   ]
  },
  {
   "cell_type": "code",
   "execution_count": 34,
   "metadata": {},
   "outputs": [
    {
     "name": "stderr",
     "output_type": "stream",
     "text": [
      "<ipython-input-34-15d30b78ccb4>:1: SettingWithCopyWarning: \n",
      "A value is trying to be set on a copy of a slice from a DataFrame.\n",
      "Try using .loc[row_indexer,col_indexer] = value instead\n",
      "\n",
      "See the caveats in the documentation: https://pandas.pydata.org/pandas-docs/stable/user_guide/indexing.html#returning-a-view-versus-a-copy\n",
      "  hotel_df['Hotel Name'] = ''\n"
     ]
    },
    {
     "data": {
      "text/html": [
       "<div>\n",
       "<style scoped>\n",
       "    .dataframe tbody tr th:only-of-type {\n",
       "        vertical-align: middle;\n",
       "    }\n",
       "\n",
       "    .dataframe tbody tr th {\n",
       "        vertical-align: top;\n",
       "    }\n",
       "\n",
       "    .dataframe thead th {\n",
       "        text-align: right;\n",
       "    }\n",
       "</style>\n",
       "<table border=\"1\" class=\"dataframe\">\n",
       "  <thead>\n",
       "    <tr style=\"text-align: right;\">\n",
       "      <th></th>\n",
       "      <th>city</th>\n",
       "      <th>lat</th>\n",
       "      <th>lng</th>\n",
       "      <th>max_temp</th>\n",
       "      <th>humidity</th>\n",
       "      <th>cloudiness</th>\n",
       "      <th>wind_speed</th>\n",
       "      <th>country</th>\n",
       "      <th>date</th>\n",
       "      <th>Hotel Name</th>\n",
       "    </tr>\n",
       "  </thead>\n",
       "  <tbody>\n",
       "    <tr>\n",
       "      <th>63</th>\n",
       "      <td>Hermanus</td>\n",
       "      <td>-34.4187</td>\n",
       "      <td>19.2345</td>\n",
       "      <td>78.01</td>\n",
       "      <td>50</td>\n",
       "      <td>0</td>\n",
       "      <td>5.01</td>\n",
       "      <td>ZA</td>\n",
       "      <td>1614940597</td>\n",
       "      <td></td>\n",
       "    </tr>\n",
       "    <tr>\n",
       "      <th>79</th>\n",
       "      <td>Road Town</td>\n",
       "      <td>18.4167</td>\n",
       "      <td>-64.6167</td>\n",
       "      <td>75.99</td>\n",
       "      <td>92</td>\n",
       "      <td>0</td>\n",
       "      <td>6.76</td>\n",
       "      <td>VG</td>\n",
       "      <td>1614940600</td>\n",
       "      <td></td>\n",
       "    </tr>\n",
       "    <tr>\n",
       "      <th>112</th>\n",
       "      <td>Pochutla</td>\n",
       "      <td>15.7432</td>\n",
       "      <td>-96.4661</td>\n",
       "      <td>71.01</td>\n",
       "      <td>80</td>\n",
       "      <td>0</td>\n",
       "      <td>2.68</td>\n",
       "      <td>MX</td>\n",
       "      <td>1614940605</td>\n",
       "      <td></td>\n",
       "    </tr>\n",
       "    <tr>\n",
       "      <th>233</th>\n",
       "      <td>Nicoya</td>\n",
       "      <td>10.1483</td>\n",
       "      <td>-85.4520</td>\n",
       "      <td>71.46</td>\n",
       "      <td>79</td>\n",
       "      <td>0</td>\n",
       "      <td>7.34</td>\n",
       "      <td>CR</td>\n",
       "      <td>1614940625</td>\n",
       "      <td></td>\n",
       "    </tr>\n",
       "    <tr>\n",
       "      <th>262</th>\n",
       "      <td>Aserrío de Gariché</td>\n",
       "      <td>8.4833</td>\n",
       "      <td>-82.8000</td>\n",
       "      <td>71.10</td>\n",
       "      <td>73</td>\n",
       "      <td>0</td>\n",
       "      <td>2.82</td>\n",
       "      <td>PA</td>\n",
       "      <td>1614940630</td>\n",
       "      <td></td>\n",
       "    </tr>\n",
       "  </tbody>\n",
       "</table>\n",
       "</div>"
      ],
      "text/plain": [
       "                   city      lat      lng  max_temp  humidity  cloudiness  \\\n",
       "63             Hermanus -34.4187  19.2345     78.01        50           0   \n",
       "79            Road Town  18.4167 -64.6167     75.99        92           0   \n",
       "112            Pochutla  15.7432 -96.4661     71.01        80           0   \n",
       "233              Nicoya  10.1483 -85.4520     71.46        79           0   \n",
       "262  Aserrío de Gariché   8.4833 -82.8000     71.10        73           0   \n",
       "\n",
       "     wind_speed country        date Hotel Name  \n",
       "63         5.01      ZA  1614940597             \n",
       "79         6.76      VG  1614940600             \n",
       "112        2.68      MX  1614940605             \n",
       "233        7.34      CR  1614940625             \n",
       "262        2.82      PA  1614940630             "
      ]
     },
     "execution_count": 34,
     "metadata": {},
     "output_type": "execute_result"
    }
   ],
   "source": [
    "hotel_df['Hotel Name'] = ''\n",
    "hotel_df.head()"
   ]
  },
  {
   "cell_type": "code",
   "execution_count": null,
   "metadata": {},
   "outputs": [],
   "source": [
    "for city in hotel_df['city']\n",
    "    \n",
    "    # geocoordinates\n",
    "    target_coordinates = str(hotel_df['lat']) + ', ' str(hotel_df[lng])\n",
    "    target_radius = 5000\n",
    "    target_type = \"hotel\"\n",
    "\n",
    "    # set up a parameters dictionary\n",
    "    params = {\n",
    "        \"location\": target_coordinates,\n",
    "        \"keyword\": target_search,\n",
    "        \"radius\": target_radius,\n",
    "        \"type\": target_type,\n",
    "        \"key\": gkey\n",
    "    }\n",
    "\n",
    "    # base url\n",
    "    base_url = \"https://maps.googleapis.com/maps/api/place/nearbysearch/json\"\n",
    "\n",
    "    # run a request using our params dictionary\n",
    "    response = requests.get(base_url, params=params)"
   ]
  },
  {
   "cell_type": "code",
   "execution_count": 43,
   "metadata": {},
   "outputs": [],
   "source": [
    "lat_arr=[]"
   ]
  },
  {
   "cell_type": "code",
   "execution_count": 44,
   "metadata": {},
   "outputs": [
    {
     "data": {
      "text/plain": [
       "[-34.4187,\n",
       " 18.4167,\n",
       " 15.7432,\n",
       " 10.1483,\n",
       " 8.4833,\n",
       " -15.8631,\n",
       " -34.0033,\n",
       " -29.4667,\n",
       " 16.8634]"
      ]
     },
     "execution_count": 44,
     "metadata": {},
     "output_type": "execute_result"
    }
   ],
   "source": [
    "for lat, data in hotel_df['lat'].items():\n",
    "    lat_arr.append(data)\n",
    "    #print(data)\n",
    "lat_arr"
   ]
  },
  {
   "cell_type": "code",
   "execution_count": 45,
   "metadata": {},
   "outputs": [],
   "source": [
    "lng_arr=[]"
   ]
  },
  {
   "cell_type": "code",
   "execution_count": 46,
   "metadata": {},
   "outputs": [
    {
     "data": {
      "text/plain": [
       "[19.2345,\n",
       " -64.6167,\n",
       " -96.4661,\n",
       " -85.45200000000001,\n",
       " -82.8,\n",
       " -38.8828,\n",
       " 24.7314,\n",
       " 149.85,\n",
       " -99.8901]"
      ]
     },
     "execution_count": 46,
     "metadata": {},
     "output_type": "execute_result"
    }
   ],
   "source": [
    "for lng, data in hotel_df['lng'].items():\n",
    "    lng_arr.append(data)\n",
    "    #print(data)\n",
    "lng_arr"
   ]
  },
  {
   "cell_type": "code",
   "execution_count": 107,
   "metadata": {},
   "outputs": [],
   "source": [
    "hotel_name=[]"
   ]
  },
  {
   "cell_type": "code",
   "execution_count": 108,
   "metadata": {},
   "outputs": [
    {
     "name": "stderr",
     "output_type": "stream",
     "text": [
      "C:\\Users\\ryanp\\anaconda3\\lib\\site-packages\\pandas\\core\\indexing.py:1765: SettingWithCopyWarning: \n",
      "A value is trying to be set on a copy of a slice from a DataFrame.\n",
      "Try using .loc[row_indexer,col_indexer] = value instead\n",
      "\n",
      "See the caveats in the documentation: https://pandas.pydata.org/pandas-docs/stable/user_guide/indexing.html#returning-a-view-versus-a-copy\n",
      "  isetter(loc, value)\n"
     ]
    }
   ],
   "source": [
    "x = range(len(lat_arr))\n",
    "for n in x:\n",
    "    #print(lat_arr[n])\n",
    "    # geocoordinates\n",
    "    target_coordinates = str(lat_arr[n]) + ', ' + str(lng_arr[n])\n",
    "    #print(target_coordinates)\n",
    "    target_radius = 5000\n",
    "    target_keyword = \"hotel\"\n",
    "    # set up a parameters dictionary\n",
    "    params = {\n",
    "        \"location\": target_coordinates,\n",
    "        \"radius\": target_radius,\n",
    "        \"keyword\": target_keyword,\n",
    "        \"key\": g_key\n",
    "    }\n",
    "\n",
    "    # base url\n",
    "    base_url = \"https://maps.googleapis.com/maps/api/place/nearbysearch/json\"\n",
    "\n",
    "    # run a request using our params dictionary\n",
    "    response = requests.get(base_url, params=params)\n",
    "    places_data = response.json()\n",
    "    #print(n)\n",
    "    try:\n",
    "        hotel_df.iloc[n,9]=places_data['results'][0]['name']\n",
    "    except:\n",
    "        hotel_df.iloc[n,9]='(None)'\n",
    "#print(places_data)"
   ]
  },
  {
   "cell_type": "code",
   "execution_count": 83,
   "metadata": {},
   "outputs": [],
   "source": [
    "#places_data['results'][0]['name']"
   ]
  },
  {
   "cell_type": "code",
   "execution_count": 103,
   "metadata": {},
   "outputs": [
    {
     "name": "stderr",
     "output_type": "stream",
     "text": [
      "C:\\Users\\ryanp\\anaconda3\\lib\\site-packages\\pandas\\core\\frame.py:4296: SettingWithCopyWarning: \n",
      "A value is trying to be set on a copy of a slice from a DataFrame\n",
      "\n",
      "See the caveats in the documentation: https://pandas.pydata.org/pandas-docs/stable/user_guide/indexing.html#returning-a-view-versus-a-copy\n",
      "  return super().rename(\n"
     ]
    },
    {
     "data": {
      "text/html": [
       "<div>\n",
       "<style scoped>\n",
       "    .dataframe tbody tr th:only-of-type {\n",
       "        vertical-align: middle;\n",
       "    }\n",
       "\n",
       "    .dataframe tbody tr th {\n",
       "        vertical-align: top;\n",
       "    }\n",
       "\n",
       "    .dataframe thead th {\n",
       "        text-align: right;\n",
       "    }\n",
       "</style>\n",
       "<table border=\"1\" class=\"dataframe\">\n",
       "  <thead>\n",
       "    <tr style=\"text-align: right;\">\n",
       "      <th></th>\n",
       "      <th>City</th>\n",
       "      <th>Lat</th>\n",
       "      <th>Lng</th>\n",
       "      <th>max_temp</th>\n",
       "      <th>humidity</th>\n",
       "      <th>cloudiness</th>\n",
       "      <th>wind_speed</th>\n",
       "      <th>Country</th>\n",
       "      <th>date</th>\n",
       "      <th>Hotel Name</th>\n",
       "    </tr>\n",
       "  </thead>\n",
       "  <tbody>\n",
       "    <tr>\n",
       "      <th>63</th>\n",
       "      <td>Hermanus</td>\n",
       "      <td>-34.4187</td>\n",
       "      <td>19.2345</td>\n",
       "      <td>78.01</td>\n",
       "      <td>50</td>\n",
       "      <td>0</td>\n",
       "      <td>5.01</td>\n",
       "      <td>ZA</td>\n",
       "      <td>1614940597</td>\n",
       "      <td>Ocean Eleven</td>\n",
       "    </tr>\n",
       "    <tr>\n",
       "      <th>79</th>\n",
       "      <td>Road Town</td>\n",
       "      <td>18.4167</td>\n",
       "      <td>-64.6167</td>\n",
       "      <td>75.99</td>\n",
       "      <td>92</td>\n",
       "      <td>0</td>\n",
       "      <td>6.76</td>\n",
       "      <td>VG</td>\n",
       "      <td>1614940600</td>\n",
       "      <td>Wyndham Tortola BVI Lambert Beach Resort</td>\n",
       "    </tr>\n",
       "    <tr>\n",
       "      <th>112</th>\n",
       "      <td>Pochutla</td>\n",
       "      <td>15.7432</td>\n",
       "      <td>-96.4661</td>\n",
       "      <td>71.01</td>\n",
       "      <td>80</td>\n",
       "      <td>0</td>\n",
       "      <td>2.68</td>\n",
       "      <td>MX</td>\n",
       "      <td>1614940605</td>\n",
       "      <td>(None)</td>\n",
       "    </tr>\n",
       "    <tr>\n",
       "      <th>233</th>\n",
       "      <td>Nicoya</td>\n",
       "      <td>10.1483</td>\n",
       "      <td>-85.4520</td>\n",
       "      <td>71.46</td>\n",
       "      <td>79</td>\n",
       "      <td>0</td>\n",
       "      <td>7.34</td>\n",
       "      <td>CR</td>\n",
       "      <td>1614940625</td>\n",
       "      <td>Hotel Doña Marta</td>\n",
       "    </tr>\n",
       "    <tr>\n",
       "      <th>262</th>\n",
       "      <td>Aserrío de Gariché</td>\n",
       "      <td>8.4833</td>\n",
       "      <td>-82.8000</td>\n",
       "      <td>71.10</td>\n",
       "      <td>73</td>\n",
       "      <td>0</td>\n",
       "      <td>2.82</td>\n",
       "      <td>PA</td>\n",
       "      <td>1614940630</td>\n",
       "      <td>Los Higuerones</td>\n",
       "    </tr>\n",
       "    <tr>\n",
       "      <th>346</th>\n",
       "      <td>Belmonte</td>\n",
       "      <td>-15.8631</td>\n",
       "      <td>-38.8828</td>\n",
       "      <td>71.60</td>\n",
       "      <td>88</td>\n",
       "      <td>0</td>\n",
       "      <td>4.61</td>\n",
       "      <td>BR</td>\n",
       "      <td>1614940645</td>\n",
       "      <td>Pousada do Diogo</td>\n",
       "    </tr>\n",
       "    <tr>\n",
       "      <th>355</th>\n",
       "      <td>Kruisfontein</td>\n",
       "      <td>-34.0033</td>\n",
       "      <td>24.7314</td>\n",
       "      <td>79.00</td>\n",
       "      <td>53</td>\n",
       "      <td>0</td>\n",
       "      <td>8.99</td>\n",
       "      <td>ZA</td>\n",
       "      <td>1614940646</td>\n",
       "      <td>(None)</td>\n",
       "    </tr>\n",
       "    <tr>\n",
       "      <th>391</th>\n",
       "      <td>Moree</td>\n",
       "      <td>-29.4667</td>\n",
       "      <td>149.8500</td>\n",
       "      <td>75.20</td>\n",
       "      <td>31</td>\n",
       "      <td>0</td>\n",
       "      <td>6.91</td>\n",
       "      <td>AU</td>\n",
       "      <td>1614940532</td>\n",
       "      <td>Gwydir Thermal Pools Motel &amp; Caravanpark</td>\n",
       "    </tr>\n",
       "    <tr>\n",
       "      <th>550</th>\n",
       "      <td>Acapulco de Juárez</td>\n",
       "      <td>16.8634</td>\n",
       "      <td>-99.8901</td>\n",
       "      <td>71.28</td>\n",
       "      <td>77</td>\n",
       "      <td>0</td>\n",
       "      <td>4.00</td>\n",
       "      <td>MX</td>\n",
       "      <td>1614940680</td>\n",
       "      <td>Hotel Costa Miramar</td>\n",
       "    </tr>\n",
       "  </tbody>\n",
       "</table>\n",
       "</div>"
      ],
      "text/plain": [
       "                   City      Lat       Lng  max_temp  humidity  cloudiness  \\\n",
       "63             Hermanus -34.4187   19.2345     78.01        50           0   \n",
       "79            Road Town  18.4167  -64.6167     75.99        92           0   \n",
       "112            Pochutla  15.7432  -96.4661     71.01        80           0   \n",
       "233              Nicoya  10.1483  -85.4520     71.46        79           0   \n",
       "262  Aserrío de Gariché   8.4833  -82.8000     71.10        73           0   \n",
       "346            Belmonte -15.8631  -38.8828     71.60        88           0   \n",
       "355        Kruisfontein -34.0033   24.7314     79.00        53           0   \n",
       "391               Moree -29.4667  149.8500     75.20        31           0   \n",
       "550  Acapulco de Juárez  16.8634  -99.8901     71.28        77           0   \n",
       "\n",
       "     wind_speed Country        date                                Hotel Name  \n",
       "63         5.01      ZA  1614940597                              Ocean Eleven  \n",
       "79         6.76      VG  1614940600  Wyndham Tortola BVI Lambert Beach Resort  \n",
       "112        2.68      MX  1614940605                                    (None)  \n",
       "233        7.34      CR  1614940625                          Hotel Doña Marta  \n",
       "262        2.82      PA  1614940630                            Los Higuerones  \n",
       "346        4.61      BR  1614940645                          Pousada do Diogo  \n",
       "355        8.99      ZA  1614940646                                    (None)  \n",
       "391        6.91      AU  1614940532  Gwydir Thermal Pools Motel & Caravanpark  \n",
       "550        4.00      MX  1614940680                       Hotel Costa Miramar  "
      ]
     },
     "execution_count": 103,
     "metadata": {},
     "output_type": "execute_result"
    }
   ],
   "source": [
    "hotel_df.rename(columns = {'city':'City'}, inplace = True)\n",
    "hotel_df.rename(columns = {'country':'Country'}, inplace = True)\n",
    "hotel_df.rename(columns = {'lat':'Lat'}, inplace = True)\n",
    "hotel_df.rename(columns = {'lng':'Lng'}, inplace = True)\n",
    "hotel_df"
   ]
  },
  {
   "cell_type": "code",
   "execution_count": 104,
   "metadata": {},
   "outputs": [],
   "source": [
    "# NOTE: Do not change any of the code in this cell\n",
    "\n",
    "# Using the template add the hotel marks to the heatmap\n",
    "info_box_template = \"\"\"\n",
    "<dl>\n",
    "<dt>Name</dt><dd>{Hotel Name}</dd>\n",
    "<dt>City</dt><dd>{City}</dd>\n",
    "<dt>Country</dt><dd>{Country}</dd>\n",
    "</dl>\n",
    "\"\"\"\n",
    "# Store the DataFrame Row\n",
    "# NOTE: be sure to update with your DataFrame name\n",
    "hotel_info = [info_box_template.format(**row) for index, row in hotel_df.iterrows()]\n",
    "locations = hotel_df[[\"Lat\", \"Lng\"]]"
   ]
  },
  {
   "cell_type": "code",
   "execution_count": 117,
   "metadata": {},
   "outputs": [],
   "source": [
    "def merge(list1, list2): \n",
    "      \n",
    "    merged_list = [(list1[i], list2[i]) for i in range(0, len(list1))] \n",
    "    return merged_list \n",
    "coordinates=merge(lat_arr,lng_arr)"
   ]
  },
  {
   "cell_type": "code",
   "execution_count": null,
   "metadata": {},
   "outputs": [],
   "source": []
  },
  {
   "cell_type": "code",
   "execution_count": 118,
   "metadata": {},
   "outputs": [
    {
     "data": {
      "application/vnd.jupyter.widget-view+json": {
       "model_id": "b75c9884e1b64e9695c148ddcb6a3b18",
       "version_major": 2,
       "version_minor": 0
      },
      "text/plain": [
       "Figure(layout=FigureLayout(height='420px'))"
      ]
     },
     "metadata": {},
     "output_type": "display_data"
    }
   ],
   "source": [
    "# Add marker layer ontop of heat map\n",
    "# Assign the marker layer to a variable\n",
    "markers = gmaps.marker_layer(coordinates)\n",
    "# Add the layer to the map\n",
    "fig.add_layer(markers)\n",
    "\n",
    "# Display figure\n",
    "fig"
   ]
  },
  {
   "cell_type": "code",
   "execution_count": null,
   "metadata": {},
   "outputs": [],
   "source": []
  }
 ],
 "metadata": {
  "kernelspec": {
   "display_name": "Python 3",
   "language": "python",
   "name": "python3"
  },
  "language_info": {
   "codemirror_mode": {
    "name": "ipython",
    "version": 3
   },
   "file_extension": ".py",
   "mimetype": "text/x-python",
   "name": "python",
   "nbconvert_exporter": "python",
   "pygments_lexer": "ipython3",
   "version": "3.8.5"
  },
  "latex_envs": {
   "LaTeX_envs_menu_present": true,
   "autoclose": false,
   "autocomplete": true,
   "bibliofile": "biblio.bib",
   "cite_by": "apalike",
   "current_citInitial": 1,
   "eqLabelWithNumbers": true,
   "eqNumInitial": 1,
   "hotkeys": {
    "equation": "Ctrl-E",
    "itemize": "Ctrl-I"
   },
   "labels_anchors": false,
   "latex_user_defs": false,
   "report_style_numbering": false,
   "user_envs_cfg": false
  }
 },
 "nbformat": 4,
 "nbformat_minor": 4
}
