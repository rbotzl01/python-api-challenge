{
 "cells": [
  {
   "cell_type": "markdown",
   "metadata": {},
   "source": [
    "# WeatherPy\n",
    "----\n",
    "\n",
    "#### Note\n",
    "* Instructions have been included for each segment. You do not have to follow them exactly, but they are included to help you think through the steps."
   ]
  },
  {
   "cell_type": "code",
   "execution_count": 123,
   "metadata": {
    "scrolled": true
   },
   "outputs": [],
   "source": [
    "# Dependencies and Setup\n",
    "import matplotlib.pyplot as plt\n",
    "import pandas as pd\n",
    "import numpy as np\n",
    "import requests\n",
    "import time\n",
    "from scipy.stats import linregress\n",
    "import json\n",
    "import pprint\n",
    "\n",
    "# Import API key\n",
    "from api_keys import weather_api_key\n",
    "\n",
    "# Incorporated citipy to determine city based on latitude and longitude\n",
    "from citipy import citipy\n",
    "\n",
    "# Output File (CSV)\n",
    "output_data_file = \"output_data/cities.csv\"\n",
    "\n",
    "# Range of latitudes and longitudes\n",
    "lat_range = (-90, 90)\n",
    "lng_range = (-180, 180)"
   ]
  },
  {
   "cell_type": "markdown",
   "metadata": {},
   "source": [
    "## Generate Cities List"
   ]
  },
  {
   "cell_type": "code",
   "execution_count": 124,
   "metadata": {},
   "outputs": [
    {
     "data": {
      "text/plain": [
       "619"
      ]
     },
     "execution_count": 124,
     "metadata": {},
     "output_type": "execute_result"
    }
   ],
   "source": [
    "# List for holding lat_lngs and cities\n",
    "lat_lngs = []\n",
    "cities = []\n",
    "\n",
    "# Create a set of random lat and lng combinations\n",
    "lats = np.random.uniform(lat_range[0], lat_range[1], size=1500)\n",
    "lngs = np.random.uniform(lng_range[0], lng_range[1], size=1500)\n",
    "lat_lngs = zip(lats, lngs)\n",
    "\n",
    "# Identify nearest city for each lat, lng combination\n",
    "for lat_lng in lat_lngs:\n",
    "    city = citipy.nearest_city(lat_lng[0], lat_lng[1]).city_name\n",
    "    \n",
    "    # If the city is unique, then add it to a our cities list\n",
    "    if city not in cities:\n",
    "        cities.append(city)\n",
    "\n",
    "# Print the city count to confirm sufficient count\n",
    "len(cities)"
   ]
  },
  {
   "cell_type": "code",
   "execution_count": 109,
   "metadata": {},
   "outputs": [],
   "source": [
    "#cities=cities[0:5]"
   ]
  },
  {
   "cell_type": "markdown",
   "metadata": {},
   "source": [
    "### Perform API Calls\n",
    "* Perform a weather check on each city using a series of successive API calls.\n",
    "* Include a print log of each city as it'sbeing processed (with the city number and city name).\n"
   ]
  },
  {
   "cell_type": "code",
   "execution_count": 125,
   "metadata": {},
   "outputs": [
    {
     "name": "stdout",
     "output_type": "stream",
     "text": [
      "http://api.openweathermap.org/data/2.5/weather?appid=e28123602e55d0e85b72074da41d6f3f&units=imperial&q=\n"
     ]
    }
   ],
   "source": [
    "\n",
    "# Save config information.\n",
    "url = \"http://api.openweathermap.org/data/2.5/weather?\"\n",
    "units = \"imperial\"\n",
    "\n",
    "# Build partial query URL\n",
    "query_url = f\"{url}appid={weather_api_key}&units={units}&q=\"\n",
    "print(query_url)"
   ]
  },
  {
   "cell_type": "code",
   "execution_count": 127,
   "metadata": {},
   "outputs": [],
   "source": [
    "#cities"
   ]
  },
  {
   "cell_type": "code",
   "execution_count": 128,
   "metadata": {},
   "outputs": [],
   "source": [
    "#pprint.pprint(weather_json)\n"
   ]
  },
  {
   "cell_type": "code",
   "execution_count": 129,
   "metadata": {},
   "outputs": [
    {
     "name": "stdout",
     "output_type": "stream",
     "text": [
      "Beginning Data Retrieval\n",
      "----------------------------\n",
      "Extracting Data for ilulissat\n",
      "Extracting Data for north bend\n",
      "Extracting Data for dibaya\n",
      "City not found.  Skipping...\n",
      "Extracting Data for ondjiva\n",
      "Extracting Data for east london\n",
      "Extracting Data for krutikha\n",
      "Extracting Data for punta arenas\n",
      "Extracting Data for booue\n",
      "Extracting Data for ushuaia\n",
      "Extracting Data for prince george\n",
      "Extracting Data for broken hill\n",
      "Extracting Data for elko\n",
      "Extracting Data for hilo\n",
      "Extracting Data for provideniya\n",
      "Extracting Data for pevek\n",
      "Extracting Data for norman wells\n",
      "Extracting Data for kuytun\n",
      "Extracting Data for anadyr\n",
      "Extracting Data for bonthe\n",
      "Extracting Data for bengkulu\n",
      "Extracting Data for butaritari\n",
      "Extracting Data for galesong\n",
      "Extracting Data for rikitea\n",
      "Extracting Data for airai\n",
      "Extracting Data for barentsburg\n",
      "City not found.  Skipping...\n",
      "Extracting Data for faanui\n",
      "Extracting Data for lethem\n",
      "Extracting Data for saldanha\n",
      "Extracting Data for guerrero negro\n",
      "Extracting Data for shingu\n",
      "Extracting Data for george\n",
      "Extracting Data for antalaha\n",
      "Extracting Data for frunzivka\n",
      "Extracting Data for kholodnyy\n",
      "Extracting Data for tuktoyaktuk\n",
      "Extracting Data for cape town\n",
      "Extracting Data for sioux lookout\n",
      "Extracting Data for chokurdakh\n",
      "Extracting Data for busselton\n",
      "Extracting Data for taolanaro\n",
      "City not found.  Skipping...\n",
      "Extracting Data for okato\n",
      "Extracting Data for tsihombe\n",
      "City not found.  Skipping...\n",
      "Extracting Data for port alfred\n",
      "Extracting Data for naze\n",
      "Extracting Data for srandakan\n",
      "Extracting Data for lorengau\n",
      "Extracting Data for belushya guba\n",
      "City not found.  Skipping...\n",
      "Extracting Data for barrow\n",
      "Extracting Data for vaini\n",
      "Extracting Data for neuquen\n",
      "Extracting Data for hobart\n",
      "Extracting Data for berlevag\n",
      "Extracting Data for codrington\n",
      "Extracting Data for grand-bourg\n",
      "Extracting Data for bandar-e lengeh\n",
      "Extracting Data for albany\n",
      "Extracting Data for severo-kurilsk\n",
      "Extracting Data for gangarampur\n",
      "Extracting Data for straumen\n",
      "Extracting Data for mataura\n",
      "Extracting Data for petrozavodsk\n",
      "Extracting Data for kavieng\n",
      "Extracting Data for terney\n",
      "Extracting Data for pisco\n",
      "Extracting Data for thompson\n",
      "Extracting Data for christchurch\n",
      "Extracting Data for anloga\n",
      "Extracting Data for ponta do sol\n",
      "Extracting Data for hermanus\n",
      "Extracting Data for bredasdorp\n",
      "Extracting Data for torbay\n",
      "Extracting Data for puerto ayora\n",
      "Extracting Data for orodara\n",
      "Extracting Data for souillac\n",
      "Extracting Data for illoqqortoormiut\n",
      "City not found.  Skipping...\n",
      "Extracting Data for hofn\n",
      "Extracting Data for umzimvubu\n",
      "City not found.  Skipping...\n",
      "Extracting Data for sipoo\n",
      "Extracting Data for atuona\n",
      "Extracting Data for yellowknife\n",
      "Extracting Data for khatanga\n",
      "Extracting Data for kapaa\n",
      "Extracting Data for igrim\n",
      "Extracting Data for astoria\n",
      "Extracting Data for cherskiy\n",
      "Extracting Data for clyde river\n",
      "Extracting Data for road town\n",
      "Extracting Data for margate\n",
      "Extracting Data for suntar\n",
      "Extracting Data for saint-philippe\n",
      "Extracting Data for jamestown\n",
      "Extracting Data for mar del plata\n",
      "Extracting Data for fare\n",
      "Extracting Data for narsaq\n",
      "Extracting Data for lavrentiya\n",
      "Extracting Data for kerman\n",
      "Extracting Data for mountain home\n",
      "Extracting Data for new norfolk\n",
      "Extracting Data for san cristobal\n",
      "Extracting Data for brigantine\n",
      "Extracting Data for kongsberg\n",
      "Extracting Data for taonan\n",
      "Extracting Data for mackay\n",
      "Extracting Data for isangel\n",
      "Extracting Data for lucapa\n",
      "Extracting Data for upata\n",
      "Extracting Data for lebu\n",
      "Extracting Data for kavaratti\n",
      "Extracting Data for tiksi\n",
      "Extracting Data for te anau\n",
      "Extracting Data for deputatskiy\n",
      "Extracting Data for cacule\n",
      "Extracting Data for maningrida\n",
      "Extracting Data for bafoulabe\n",
      "Extracting Data for santa isabel\n",
      "Extracting Data for basoko\n",
      "Extracting Data for indian head\n",
      "Extracting Data for nikolskoye\n",
      "Extracting Data for nichinan\n",
      "Extracting Data for pochutla\n",
      "Extracting Data for tasiilaq\n",
      "Extracting Data for dikson\n",
      "Extracting Data for ixtapa\n",
      "Extracting Data for saleaula\n",
      "City not found.  Skipping...\n",
      "Extracting Data for stephenville\n",
      "Extracting Data for lagoa\n",
      "Extracting Data for yulara\n",
      "Extracting Data for broome\n",
      "Extracting Data for fairbanks\n",
      "Extracting Data for guadalupe y calvo\n",
      "Extracting Data for tilichiki\n",
      "Extracting Data for mahebourg\n",
      "Extracting Data for tazmalt\n",
      "Extracting Data for nome\n",
      "Extracting Data for vardo\n",
      "Extracting Data for esperance\n",
      "Extracting Data for salaga\n",
      "Extracting Data for ormara\n",
      "Extracting Data for victoria\n",
      "Extracting Data for portland\n",
      "Extracting Data for qaanaaq\n",
      "Extracting Data for bethel\n",
      "Extracting Data for tongchuan\n",
      "Extracting Data for louisbourg\n",
      "City not found.  Skipping...\n",
      "Extracting Data for mys shmidta\n",
      "City not found.  Skipping...\n",
      "Extracting Data for pacific grove\n",
      "Extracting Data for lerwick\n",
      "Extracting Data for samusu\n",
      "City not found.  Skipping...\n",
      "Extracting Data for poum\n",
      "Extracting Data for iqaluit\n",
      "Extracting Data for riyadh\n",
      "Extracting Data for carnarvon\n",
      "Extracting Data for nova vicosa\n",
      "Extracting Data for kathu\n",
      "Extracting Data for russkiy\n",
      "Extracting Data for empangeni\n",
      "Extracting Data for pangnirtung\n",
      "Extracting Data for port-gentil\n",
      "Extracting Data for lypova dolyna\n",
      "Extracting Data for sisimiut\n",
      "Extracting Data for evensk\n",
      "Extracting Data for kisiwani\n",
      "Extracting Data for luderitz\n",
      "Extracting Data for bambous virieux\n",
      "Extracting Data for hami\n",
      "Extracting Data for porto novo\n",
      "Extracting Data for nanortalik\n",
      "Extracting Data for saint george\n",
      "Extracting Data for alofi\n",
      "Extracting Data for maykain\n",
      "City not found.  Skipping...\n",
      "Extracting Data for bluff\n",
      "Extracting Data for coahuayana\n",
      "Extracting Data for moussoro\n",
      "Extracting Data for bilibino\n",
      "Extracting Data for tiznit\n",
      "Extracting Data for ko samui\n",
      "Extracting Data for kysyl-syr\n",
      "Extracting Data for manokwari\n",
      "Extracting Data for tautira\n",
      "Extracting Data for upernavik\n",
      "Extracting Data for khasan\n",
      "Extracting Data for taoudenni\n",
      "Extracting Data for cleethorpes\n",
      "Extracting Data for tumannyy\n",
      "City not found.  Skipping...\n",
      "Extracting Data for los llanos de aridane\n",
      "Extracting Data for kutum\n",
      "Extracting Data for mago\n",
      "Extracting Data for namibe\n",
      "Extracting Data for bansang\n",
      "Extracting Data for jiutai\n",
      "Extracting Data for karratha\n",
      "Extracting Data for abu dhabi\n",
      "Extracting Data for petauke\n",
      "Extracting Data for taywarah\n",
      "Extracting Data for twentynine palms\n",
      "Extracting Data for kozhevnikovo\n",
      "Extracting Data for knysna\n",
      "Extracting Data for beni\n",
      "Extracting Data for cabo san lucas\n",
      "Extracting Data for kihei\n",
      "Extracting Data for lere\n",
      "Extracting Data for karakendzha\n",
      "City not found.  Skipping...\n",
      "Extracting Data for radhan\n",
      "Extracting Data for kamaishi\n",
      "Extracting Data for grand river south east\n",
      "City not found.  Skipping...\n",
      "Extracting Data for vitre\n",
      "Extracting Data for grand gaube\n",
      "Extracting Data for sangar\n",
      "Extracting Data for rungata\n",
      "City not found.  Skipping...\n",
      "Extracting Data for castro\n",
      "Extracting Data for callaway\n",
      "Extracting Data for amderma\n",
      "City not found.  Skipping...\n",
      "Extracting Data for inhambane\n",
      "Extracting Data for tabou\n",
      "Extracting Data for kahului\n",
      "Extracting Data for odemis\n",
      "City not found.  Skipping...\n",
      "Extracting Data for wanaka\n",
      "Extracting Data for golakganj\n",
      "Extracting Data for necochea\n",
      "Extracting Data for sorong\n",
      "Extracting Data for sydney\n",
      "Extracting Data for avarua\n",
      "Extracting Data for port elizabeth\n",
      "Extracting Data for georgetown\n",
      "Extracting Data for seoul\n",
      "Extracting Data for port hardy\n",
      "Extracting Data for northam\n",
      "Extracting Data for cayenne\n",
      "Extracting Data for baruun-urt\n",
      "Extracting Data for sentyabrskiy\n",
      "City not found.  Skipping...\n",
      "Extracting Data for panalingaan\n",
      "Extracting Data for shchelyayur\n",
      "City not found.  Skipping...\n",
      "Extracting Data for guilin\n",
      "Extracting Data for ulaangom\n",
      "Extracting Data for north branch\n",
      "Extracting Data for haileybury\n",
      "Extracting Data for lemesos\n",
      "City not found.  Skipping...\n",
      "Extracting Data for lotofaga\n",
      "Extracting Data for constitucion\n",
      "Extracting Data for san quintin\n",
      "Extracting Data for talnakh\n",
      "Extracting Data for katsuura\n",
      "Extracting Data for borgo san dalmazzo\n",
      "Extracting Data for cockburn town\n",
      "Extracting Data for saskylakh\n",
      "Extracting Data for dunedin\n",
      "Extracting Data for tubruq\n",
      "City not found.  Skipping...\n",
      "Extracting Data for rovaniemi\n",
      "Extracting Data for camacha\n",
      "Extracting Data for attawapiskat\n",
      "City not found.  Skipping...\n",
      "Extracting Data for whitehorse\n",
      "Extracting Data for karaul\n",
      "City not found.  Skipping...\n",
      "Extracting Data for sambava\n",
      "Extracting Data for ordu\n"
     ]
    },
    {
     "name": "stdout",
     "output_type": "stream",
     "text": [
      "Extracting Data for grindavik\n",
      "Extracting Data for sept-iles\n",
      "Extracting Data for mocorito\n",
      "Extracting Data for nicoya\n",
      "Extracting Data for ondangwa\n",
      "Extracting Data for klaksvik\n",
      "Extracting Data for bubaque\n",
      "Extracting Data for adamas\n",
      "Extracting Data for laguna\n",
      "Extracting Data for trelew\n",
      "Extracting Data for hithadhoo\n",
      "Extracting Data for chapais\n",
      "Extracting Data for riacho de santana\n",
      "Extracting Data for hasaki\n",
      "Extracting Data for megion\n",
      "Extracting Data for sembakung\n",
      "Extracting Data for finschhafen\n",
      "Extracting Data for ostrovnoy\n",
      "Extracting Data for flinders\n",
      "Extracting Data for nakhon phanom\n",
      "Extracting Data for pitimbu\n",
      "Extracting Data for ancud\n",
      "Extracting Data for udarnyy\n",
      "Extracting Data for toamasina\n",
      "Extracting Data for llanes\n",
      "Extracting Data for yar-sale\n",
      "Extracting Data for axim\n",
      "Extracting Data for adrar\n",
      "Extracting Data for maltahohe\n",
      "Extracting Data for eureka\n",
      "Extracting Data for san jeronimo\n",
      "Extracting Data for prainha\n",
      "Extracting Data for aserrio de gariche\n",
      "Extracting Data for belomorsk\n",
      "Extracting Data for geraldton\n",
      "Extracting Data for padang\n",
      "Extracting Data for caravelas\n",
      "Extracting Data for fukue\n",
      "Extracting Data for husavik\n",
      "Extracting Data for chubbuck\n",
      "Extracting Data for hamilton\n",
      "Extracting Data for bo rai\n",
      "Extracting Data for jujuy\n",
      "City not found.  Skipping...\n",
      "Extracting Data for aklavik\n",
      "Extracting Data for sheltozero\n",
      "Extracting Data for calauan\n",
      "Extracting Data for longyearbyen\n",
      "Extracting Data for bandarbeyla\n",
      "Extracting Data for namtsy\n",
      "Extracting Data for kharar\n",
      "Extracting Data for minna\n",
      "Extracting Data for baijiantan\n",
      "Extracting Data for vestmannaeyjar\n",
      "Extracting Data for dingle\n",
      "Extracting Data for bonavista\n",
      "Extracting Data for turukhansk\n",
      "Extracting Data for olafsvik\n",
      "Extracting Data for faya\n",
      "Extracting Data for namatanai\n",
      "Extracting Data for rajula\n",
      "Extracting Data for valkeala\n",
      "Extracting Data for gunnedah\n",
      "Extracting Data for sao miguel do araguaia\n",
      "Extracting Data for cervo\n",
      "Extracting Data for baykit\n",
      "Extracting Data for fortuna\n",
      "Extracting Data for biltine\n",
      "Extracting Data for port lincoln\n",
      "Extracting Data for ferkessedougou\n",
      "Extracting Data for petawawa\n",
      "Extracting Data for correntina\n",
      "Extracting Data for sao jose da coroa grande\n",
      "Extracting Data for labuhan\n",
      "Extracting Data for vaitupu\n",
      "City not found.  Skipping...\n",
      "Extracting Data for ribeira grande\n",
      "Extracting Data for champerico\n",
      "Extracting Data for port hedland\n",
      "Extracting Data for bar harbor\n",
      "Extracting Data for caceres\n",
      "Extracting Data for cidreira\n",
      "Extracting Data for zhigansk\n",
      "Extracting Data for vila franca do campo\n",
      "Extracting Data for hovd\n",
      "Extracting Data for ballangen\n",
      "Extracting Data for nioro\n",
      "Extracting Data for korla\n",
      "Extracting Data for kupang\n",
      "Extracting Data for loandjili\n",
      "Extracting Data for hervey bay\n",
      "Extracting Data for sorland\n",
      "Extracting Data for dubrovka\n",
      "Extracting Data for celestun\n",
      "Extracting Data for morondava\n",
      "Extracting Data for tuatapere\n",
      "Extracting Data for rio grande\n",
      "Extracting Data for babylon\n",
      "Extracting Data for grootfontein\n",
      "Extracting Data for lyubokhna\n",
      "Extracting Data for issenye\n",
      "Extracting Data for takoradi\n",
      "Extracting Data for port moresby\n",
      "Extracting Data for ruatoria\n",
      "City not found.  Skipping...\n",
      "Extracting Data for dolbeau\n",
      "City not found.  Skipping...\n",
      "Extracting Data for kuah\n",
      "Extracting Data for zalantun\n",
      "Extracting Data for coihaique\n",
      "Extracting Data for birao\n",
      "Extracting Data for aguilas\n",
      "Extracting Data for curup\n",
      "Extracting Data for santander\n",
      "Extracting Data for saratoga\n",
      "Extracting Data for bathsheba\n",
      "Extracting Data for loa janan\n",
      "Extracting Data for sainte-maxime\n",
      "Extracting Data for turiacu\n",
      "Extracting Data for phillipsburg\n",
      "Extracting Data for kodiak\n",
      "Extracting Data for buala\n",
      "Extracting Data for urumqi\n",
      "Extracting Data for kaeo\n",
      "Extracting Data for belmonte\n",
      "Extracting Data for muswellbrook\n",
      "Extracting Data for veraval\n",
      "Extracting Data for along\n",
      "Extracting Data for mehamn\n",
      "Extracting Data for japura\n",
      "Extracting Data for kurkino\n",
      "Extracting Data for khingansk\n",
      "Extracting Data for severnyy\n",
      "Extracting Data for kruisfontein\n",
      "Extracting Data for dunmore town\n",
      "Extracting Data for presidente medici\n",
      "Extracting Data for kununurra\n",
      "Extracting Data for jumla\n",
      "Extracting Data for isla mujeres\n",
      "Extracting Data for woodward\n",
      "Extracting Data for arlit\n",
      "Extracting Data for cyangugu\n",
      "Extracting Data for swan river\n",
      "Extracting Data for leningradskiy\n",
      "Extracting Data for lillesand\n",
      "Extracting Data for ulaanbaatar\n",
      "Extracting Data for myatlevo\n",
      "Extracting Data for nizhneyansk\n",
      "City not found.  Skipping...\n",
      "Extracting Data for saint-francois\n",
      "Extracting Data for skjervoy\n",
      "Extracting Data for saint-louis\n",
      "Extracting Data for wladyslawowo\n",
      "Extracting Data for arraial do cabo\n",
      "Extracting Data for hambantota\n",
      "Extracting Data for dinguiraye\n",
      "Extracting Data for parit buntar\n",
      "Extracting Data for banepa\n",
      "Extracting Data for gat\n",
      "Extracting Data for freeport\n",
      "Extracting Data for shenjiamen\n",
      "Extracting Data for aswan\n",
      "Extracting Data for amacuzac\n",
      "Extracting Data for umm lajj\n",
      "Extracting Data for macapa\n",
      "Extracting Data for djibo\n",
      "Extracting Data for leh\n",
      "Extracting Data for matamoros\n",
      "Extracting Data for vila velha\n",
      "Extracting Data for saint-pacome\n",
      "City not found.  Skipping...\n",
      "Extracting Data for peniche\n",
      "Extracting Data for sao filipe\n",
      "Extracting Data for moree\n",
      "Extracting Data for mahalapye\n",
      "Extracting Data for susehri\n",
      "Extracting Data for yumen\n",
      "Extracting Data for san rafael\n",
      "Extracting Data for baft\n",
      "Extracting Data for balkhash\n",
      "Extracting Data for humaita\n",
      "Extracting Data for byron bay\n",
      "Extracting Data for usoke\n",
      "Extracting Data for alice springs\n",
      "Extracting Data for ornskoldsvik\n",
      "Extracting Data for nguiu\n",
      "City not found.  Skipping...\n",
      "Extracting Data for movileni\n",
      "Extracting Data for palana\n",
      "Extracting Data for abu zabad\n",
      "Extracting Data for naustdal\n",
      "Extracting Data for abbeville\n",
      "Extracting Data for tabialan\n",
      "City not found.  Skipping...\n",
      "Extracting Data for xuddur\n",
      "Extracting Data for grand centre\n",
      "City not found.  Skipping...\n",
      "Extracting Data for zhanakorgan\n",
      "Extracting Data for hobyo\n",
      "Extracting Data for mayumba\n",
      "Extracting Data for stoyba\n",
      "City not found.  Skipping...\n",
      "Extracting Data for ahipara\n",
      "Extracting Data for okandja\n",
      "City not found.  Skipping...\n",
      "Extracting Data for encruzilhada do sul\n",
      "Extracting Data for atsiki\n",
      "City not found.  Skipping...\n",
      "Extracting Data for languyan\n",
      "Extracting Data for timra\n",
      "Extracting Data for agirish\n",
      "Extracting Data for selenduma\n",
      "Extracting Data for mahajanga\n",
      "Extracting Data for hurghada\n",
      "Extracting Data for athens\n",
      "Extracting Data for sao joao da barra\n",
      "Extracting Data for jega\n",
      "Extracting Data for kedrovyy\n",
      "Extracting Data for tabriz\n",
      "Extracting Data for sandur\n",
      "Extracting Data for xining\n",
      "Extracting Data for bilma\n",
      "Extracting Data for tena\n",
      "Extracting Data for matina\n",
      "Extracting Data for thai binh\n",
      "Extracting Data for sindou\n",
      "Extracting Data for talcahuano\n",
      "Extracting Data for chuy\n",
      "Extracting Data for myitkyina\n",
      "Extracting Data for farmington\n",
      "Extracting Data for haines junction\n",
      "Extracting Data for muisne\n",
      "Extracting Data for krasnoselkup\n",
      "Extracting Data for tura\n",
      "Extracting Data for hokitika\n",
      "Extracting Data for aanekoski\n",
      "Extracting Data for wulanhaote\n",
      "City not found.  Skipping...\n",
      "Extracting Data for altay\n",
      "Extracting Data for bindura\n",
      "Extracting Data for berbera\n",
      "Extracting Data for kaka\n",
      "Extracting Data for marcona\n",
      "City not found.  Skipping...\n",
      "Extracting Data for hay river\n",
      "Extracting Data for biharamulo\n",
      "Extracting Data for dubbo\n",
      "Extracting Data for sola\n",
      "Extracting Data for puerto madryn\n",
      "Extracting Data for chicama\n",
      "Extracting Data for coolum beach\n",
      "Extracting Data for doka\n",
      "Extracting Data for kantabanji\n",
      "Extracting Data for parrsboro\n",
      "Extracting Data for moron\n",
      "Extracting Data for tabiauea\n",
      "City not found.  Skipping...\n",
      "Extracting Data for zaozerne\n",
      "Extracting Data for moura\n",
      "Extracting Data for vostok\n",
      "Extracting Data for konza\n",
      "Extracting Data for yining\n",
      "Extracting Data for rantauprapat\n",
      "Extracting Data for lebanon\n",
      "Extracting Data for pokhara\n",
      "Extracting Data for beyla\n",
      "Extracting Data for kolpashevo\n",
      "Extracting Data for frontera hidalgo\n",
      "Extracting Data for ghanzi\n",
      "Extracting Data for longlac\n",
      "City not found.  Skipping...\n",
      "Extracting Data for mizdah\n",
      "Extracting Data for malwan\n",
      "City not found.  Skipping...\n",
      "Extracting Data for tongzi\n",
      "Extracting Data for rio gallegos\n",
      "Extracting Data for valdivia\n",
      "Extracting Data for san andres\n",
      "Extracting Data for quatre cocos\n",
      "Extracting Data for grajau\n"
     ]
    },
    {
     "name": "stdout",
     "output_type": "stream",
     "text": [
      "Extracting Data for lexington park\n",
      "Extracting Data for seydi\n",
      "Extracting Data for vao\n",
      "Extracting Data for skagen\n",
      "Extracting Data for yunyang\n",
      "Extracting Data for nalut\n",
      "Extracting Data for araouane\n",
      "Extracting Data for sistranda\n",
      "Extracting Data for mayo\n",
      "Extracting Data for lazaro cardenas\n",
      "Extracting Data for gilbues\n",
      "Extracting Data for nyurba\n",
      "Extracting Data for mahon\n",
      "Extracting Data for iskateley\n",
      "Extracting Data for richards bay\n",
      "Extracting Data for havre-saint-pierre\n",
      "Extracting Data for kitimat\n",
      "Extracting Data for uyemskiy\n",
      "Extracting Data for anklesvar\n",
      "City not found.  Skipping...\n",
      "Extracting Data for nanakuli\n",
      "Extracting Data for lata\n",
      "Extracting Data for perth\n",
      "Extracting Data for conceicao do araguaia\n",
      "Extracting Data for serebryansk\n",
      "Extracting Data for ugoofaaru\n",
      "Extracting Data for nagybaracska\n",
      "Extracting Data for san juan bautista\n",
      "Extracting Data for javanrud\n",
      "Extracting Data for cerritos\n",
      "Extracting Data for borama\n",
      "City not found.  Skipping...\n",
      "Extracting Data for waingapu\n",
      "Extracting Data for kumba\n",
      "Extracting Data for floresta\n",
      "Extracting Data for shakawe\n",
      "Extracting Data for solnechnyy\n",
      "Extracting Data for mancora\n",
      "Extracting Data for varhaug\n",
      "Extracting Data for nelson bay\n",
      "Extracting Data for taitung\n",
      "Extracting Data for the valley\n",
      "Extracting Data for matay\n",
      "Extracting Data for utiel\n",
      "Extracting Data for kondinskoye\n",
      "Extracting Data for jhunjhunun\n",
      "Extracting Data for heinola\n",
      "Extracting Data for santiago\n",
      "Extracting Data for taksimo\n",
      "Extracting Data for phan rang\n",
      "City not found.  Skipping...\n",
      "Extracting Data for pahrump\n",
      "Extracting Data for villa rica\n",
      "Extracting Data for arosa\n",
      "Extracting Data for salalah\n",
      "Extracting Data for zambezi\n",
      "Extracting Data for udachnyy\n",
      "Extracting Data for pathein\n",
      "Extracting Data for denizli\n",
      "Extracting Data for saryshagan\n",
      "City not found.  Skipping...\n",
      "Extracting Data for kargasok\n",
      "Extracting Data for ivolginsk\n",
      "Extracting Data for canavieiras\n",
      "Extracting Data for lamar\n",
      "Extracting Data for tuggurt\n",
      "City not found.  Skipping...\n",
      "Extracting Data for ongandjera\n",
      "Extracting Data for kikwit\n",
      "Extracting Data for gisborne\n",
      "Extracting Data for oros\n",
      "Extracting Data for middelburg\n",
      "Extracting Data for atar\n",
      "Extracting Data for ibra\n",
      "Extracting Data for san patricio\n",
      "Extracting Data for krasnoarmeysk\n",
      "Extracting Data for nantucket\n",
      "Extracting Data for tachov\n",
      "Extracting Data for taltal\n",
      "Extracting Data for yeppoon\n",
      "Extracting Data for aripuana\n",
      "Extracting Data for ust-nera\n",
      "Extracting Data for ankpa\n",
      "Extracting Data for portobelo\n",
      "Extracting Data for acapulco\n",
      "Extracting Data for victor harbor\n",
      "Extracting Data for comodoro rivadavia\n",
      "Extracting Data for rivera\n",
      "Extracting Data for ilula\n",
      "Extracting Data for yeniseysk\n",
      "Extracting Data for atocha\n",
      "Extracting Data for palabuhanratu\n",
      "City not found.  Skipping...\n",
      "Extracting Data for kita\n",
      "Extracting Data for port blair\n",
      "Extracting Data for dutse\n",
      "Extracting Data for kulhudhuffushi\n",
      "Extracting Data for mahibadhoo\n",
      "Extracting Data for majene\n",
      "Extracting Data for mercedes\n",
      "Extracting Data for oranjemund\n",
      "Extracting Data for hadejia\n",
      "Extracting Data for payo\n",
      "Extracting Data for atambua\n",
      "Extracting Data for kamenskoye\n",
      "City not found.  Skipping...\n",
      "Extracting Data for kampong thum\n",
      "Extracting Data for saint anthony\n",
      "Extracting Data for treinta y tres\n"
     ]
    }
   ],
   "source": [
    "# set up lists to hold reponse info\n",
    "city_name=[]\n",
    "lat = []\n",
    "lng=[]\n",
    "max_temp=[]\n",
    "humidity=[]\n",
    "cloudiness=[]\n",
    "wind_speed=[]\n",
    "country=[]\n",
    "date=[]\n",
    "\n",
    "# Loop through the list of cities and perform a request for data on each\n",
    "print('Beginning Data Retrieval')\n",
    "print('----------------------------')\n",
    "for city in cities:\n",
    "    try:\n",
    "        response = requests.get(query_url + city).json()\n",
    "        print('Extracting Data for ' + city)\n",
    "        city_name.append(response['name'])\n",
    "        lat.append(response['coord']['lat'])\n",
    "        lng.append(response['coord']['lon'])\n",
    "        max_temp.append(response['main']['temp_max'])\n",
    "        humidity.append(response['main']['humidity'])\n",
    "        cloudiness.append(response['clouds']['all'])\n",
    "        wind_speed.append(response['wind']['speed'])\n",
    "        country.append(response['sys']['country'])\n",
    "        date.append(response['dt'])\n",
    "    except:\n",
    "        print('City not found.  Skipping...')"
   ]
  },
  {
   "cell_type": "code",
   "execution_count": null,
   "metadata": {},
   "outputs": [],
   "source": []
  },
  {
   "cell_type": "code",
   "execution_count": 188,
   "metadata": {},
   "outputs": [],
   "source": [
    "#print(len(city_name))\n",
    "#print(len(lat))\n",
    "#print(len(lng))\n",
    "#print(len(max_temp))\n",
    "#print(len(humidity))\n",
    "#print(len(cloudiness))\n",
    "#print(len(wind_speed))\n",
    "#print(len(country))\n",
    "#print(len(date))"
   ]
  },
  {
   "cell_type": "code",
   "execution_count": null,
   "metadata": {},
   "outputs": [],
   "source": []
  },
  {
   "cell_type": "code",
   "execution_count": null,
   "metadata": {},
   "outputs": [],
   "source": []
  },
  {
   "cell_type": "code",
   "execution_count": null,
   "metadata": {},
   "outputs": [],
   "source": []
  },
  {
   "cell_type": "code",
   "execution_count": null,
   "metadata": {
    "scrolled": true
   },
   "outputs": [],
   "source": []
  },
  {
   "cell_type": "markdown",
   "metadata": {},
   "source": [
    "### Convert Raw Data to DataFrame\n",
    "* Export the city data into a .csv.\n",
    "* Display the DataFrame"
   ]
  },
  {
   "cell_type": "code",
   "execution_count": 132,
   "metadata": {},
   "outputs": [],
   "source": [
    "weather_dict = {\n",
    "    \"city\": city_name,\n",
    "    \"lat\": lat,\n",
    "    \"lng\": lng,\n",
    "    \"max_temp\": max_temp,\n",
    "    \"humidity\": humidity,\n",
    "    \"cloudiness\": cloudiness,\n",
    "    \"wind_speed\": wind_speed,\n",
    "    \"country\": country,\n",
    "    \"date\": date,\n",
    "}\n",
    "weather_data = pd.DataFrame(weather_dict)"
   ]
  },
  {
   "cell_type": "code",
   "execution_count": 133,
   "metadata": {},
   "outputs": [
    {
     "data": {
      "text/html": [
       "<div>\n",
       "<style scoped>\n",
       "    .dataframe tbody tr th:only-of-type {\n",
       "        vertical-align: middle;\n",
       "    }\n",
       "\n",
       "    .dataframe tbody tr th {\n",
       "        vertical-align: top;\n",
       "    }\n",
       "\n",
       "    .dataframe thead th {\n",
       "        text-align: right;\n",
       "    }\n",
       "</style>\n",
       "<table border=\"1\" class=\"dataframe\">\n",
       "  <thead>\n",
       "    <tr style=\"text-align: right;\">\n",
       "      <th></th>\n",
       "      <th>city</th>\n",
       "      <th>lat</th>\n",
       "      <th>lng</th>\n",
       "      <th>max_temp</th>\n",
       "      <th>humidity</th>\n",
       "      <th>cloudiness</th>\n",
       "      <th>wind_speed</th>\n",
       "      <th>country</th>\n",
       "      <th>date</th>\n",
       "    </tr>\n",
       "  </thead>\n",
       "  <tbody>\n",
       "    <tr>\n",
       "      <th>0</th>\n",
       "      <td>Ilulissat</td>\n",
       "      <td>69.2167</td>\n",
       "      <td>-51.1000</td>\n",
       "      <td>21.20</td>\n",
       "      <td>68</td>\n",
       "      <td>20</td>\n",
       "      <td>5.75</td>\n",
       "      <td>GL</td>\n",
       "      <td>1614940588</td>\n",
       "    </tr>\n",
       "    <tr>\n",
       "      <th>1</th>\n",
       "      <td>North Bend</td>\n",
       "      <td>43.4065</td>\n",
       "      <td>-124.2243</td>\n",
       "      <td>53.60</td>\n",
       "      <td>54</td>\n",
       "      <td>90</td>\n",
       "      <td>13.80</td>\n",
       "      <td>US</td>\n",
       "      <td>1614940467</td>\n",
       "    </tr>\n",
       "    <tr>\n",
       "      <th>2</th>\n",
       "      <td>Ondjiva</td>\n",
       "      <td>-17.0667</td>\n",
       "      <td>15.7333</td>\n",
       "      <td>87.80</td>\n",
       "      <td>30</td>\n",
       "      <td>20</td>\n",
       "      <td>5.75</td>\n",
       "      <td>AO</td>\n",
       "      <td>1614940588</td>\n",
       "    </tr>\n",
       "    <tr>\n",
       "      <th>3</th>\n",
       "      <td>East London</td>\n",
       "      <td>-33.0153</td>\n",
       "      <td>27.9116</td>\n",
       "      <td>75.20</td>\n",
       "      <td>60</td>\n",
       "      <td>20</td>\n",
       "      <td>16.11</td>\n",
       "      <td>ZA</td>\n",
       "      <td>1614940588</td>\n",
       "    </tr>\n",
       "    <tr>\n",
       "      <th>4</th>\n",
       "      <td>Krutikha</td>\n",
       "      <td>53.9599</td>\n",
       "      <td>81.2093</td>\n",
       "      <td>24.04</td>\n",
       "      <td>83</td>\n",
       "      <td>81</td>\n",
       "      <td>17.72</td>\n",
       "      <td>RU</td>\n",
       "      <td>1614940589</td>\n",
       "    </tr>\n",
       "    <tr>\n",
       "      <th>...</th>\n",
       "      <td>...</td>\n",
       "      <td>...</td>\n",
       "      <td>...</td>\n",
       "      <td>...</td>\n",
       "      <td>...</td>\n",
       "      <td>...</td>\n",
       "      <td>...</td>\n",
       "      <td>...</td>\n",
       "      <td>...</td>\n",
       "    </tr>\n",
       "    <tr>\n",
       "      <th>566</th>\n",
       "      <td>Payo</td>\n",
       "      <td>-3.7508</td>\n",
       "      <td>103.6372</td>\n",
       "      <td>79.97</td>\n",
       "      <td>92</td>\n",
       "      <td>90</td>\n",
       "      <td>2.46</td>\n",
       "      <td>ID</td>\n",
       "      <td>1614940683</td>\n",
       "    </tr>\n",
       "    <tr>\n",
       "      <th>567</th>\n",
       "      <td>Atambua</td>\n",
       "      <td>-9.1061</td>\n",
       "      <td>124.8925</td>\n",
       "      <td>75.96</td>\n",
       "      <td>90</td>\n",
       "      <td>70</td>\n",
       "      <td>1.90</td>\n",
       "      <td>ID</td>\n",
       "      <td>1614940684</td>\n",
       "    </tr>\n",
       "    <tr>\n",
       "      <th>568</th>\n",
       "      <td>Kampong Thom</td>\n",
       "      <td>12.7111</td>\n",
       "      <td>104.8887</td>\n",
       "      <td>92.14</td>\n",
       "      <td>29</td>\n",
       "      <td>0</td>\n",
       "      <td>5.79</td>\n",
       "      <td>KH</td>\n",
       "      <td>1614940684</td>\n",
       "    </tr>\n",
       "    <tr>\n",
       "      <th>569</th>\n",
       "      <td>Saint Anthony</td>\n",
       "      <td>45.0205</td>\n",
       "      <td>-93.2180</td>\n",
       "      <td>35.60</td>\n",
       "      <td>69</td>\n",
       "      <td>90</td>\n",
       "      <td>2.55</td>\n",
       "      <td>US</td>\n",
       "      <td>1614940684</td>\n",
       "    </tr>\n",
       "    <tr>\n",
       "      <th>570</th>\n",
       "      <td>Treinta y Tres</td>\n",
       "      <td>-33.2333</td>\n",
       "      <td>-54.3833</td>\n",
       "      <td>68.45</td>\n",
       "      <td>90</td>\n",
       "      <td>9</td>\n",
       "      <td>10.29</td>\n",
       "      <td>UY</td>\n",
       "      <td>1614940684</td>\n",
       "    </tr>\n",
       "  </tbody>\n",
       "</table>\n",
       "<p>571 rows × 9 columns</p>\n",
       "</div>"
      ],
      "text/plain": [
       "               city      lat       lng  max_temp  humidity  cloudiness  \\\n",
       "0         Ilulissat  69.2167  -51.1000     21.20        68          20   \n",
       "1        North Bend  43.4065 -124.2243     53.60        54          90   \n",
       "2           Ondjiva -17.0667   15.7333     87.80        30          20   \n",
       "3       East London -33.0153   27.9116     75.20        60          20   \n",
       "4          Krutikha  53.9599   81.2093     24.04        83          81   \n",
       "..              ...      ...       ...       ...       ...         ...   \n",
       "566            Payo  -3.7508  103.6372     79.97        92          90   \n",
       "567         Atambua  -9.1061  124.8925     75.96        90          70   \n",
       "568    Kampong Thom  12.7111  104.8887     92.14        29           0   \n",
       "569   Saint Anthony  45.0205  -93.2180     35.60        69          90   \n",
       "570  Treinta y Tres -33.2333  -54.3833     68.45        90           9   \n",
       "\n",
       "     wind_speed country        date  \n",
       "0          5.75      GL  1614940588  \n",
       "1         13.80      US  1614940467  \n",
       "2          5.75      AO  1614940588  \n",
       "3         16.11      ZA  1614940588  \n",
       "4         17.72      RU  1614940589  \n",
       "..          ...     ...         ...  \n",
       "566        2.46      ID  1614940683  \n",
       "567        1.90      ID  1614940684  \n",
       "568        5.79      KH  1614940684  \n",
       "569        2.55      US  1614940684  \n",
       "570       10.29      UY  1614940684  \n",
       "\n",
       "[571 rows x 9 columns]"
      ]
     },
     "execution_count": 133,
     "metadata": {},
     "output_type": "execute_result"
    }
   ],
   "source": [
    "weather_data"
   ]
  },
  {
   "cell_type": "code",
   "execution_count": null,
   "metadata": {},
   "outputs": [],
   "source": []
  },
  {
   "cell_type": "code",
   "execution_count": 92,
   "metadata": {},
   "outputs": [],
   "source": []
  },
  {
   "cell_type": "code",
   "execution_count": 134,
   "metadata": {},
   "outputs": [
    {
     "data": {
      "text/html": [
       "<div>\n",
       "<style scoped>\n",
       "    .dataframe tbody tr th:only-of-type {\n",
       "        vertical-align: middle;\n",
       "    }\n",
       "\n",
       "    .dataframe tbody tr th {\n",
       "        vertical-align: top;\n",
       "    }\n",
       "\n",
       "    .dataframe thead th {\n",
       "        text-align: right;\n",
       "    }\n",
       "</style>\n",
       "<table border=\"1\" class=\"dataframe\">\n",
       "  <thead>\n",
       "    <tr style=\"text-align: right;\">\n",
       "      <th></th>\n",
       "      <th>lat</th>\n",
       "      <th>lng</th>\n",
       "      <th>max_temp</th>\n",
       "      <th>humidity</th>\n",
       "      <th>cloudiness</th>\n",
       "      <th>wind_speed</th>\n",
       "      <th>date</th>\n",
       "    </tr>\n",
       "  </thead>\n",
       "  <tbody>\n",
       "    <tr>\n",
       "      <th>count</th>\n",
       "      <td>571.000000</td>\n",
       "      <td>571.000000</td>\n",
       "      <td>571.000000</td>\n",
       "      <td>571.000000</td>\n",
       "      <td>571.000000</td>\n",
       "      <td>571.000000</td>\n",
       "      <td>5.710000e+02</td>\n",
       "    </tr>\n",
       "    <tr>\n",
       "      <th>mean</th>\n",
       "      <td>18.568742</td>\n",
       "      <td>18.811158</td>\n",
       "      <td>55.369475</td>\n",
       "      <td>67.155867</td>\n",
       "      <td>46.302977</td>\n",
       "      <td>8.253240</td>\n",
       "      <td>1.614941e+09</td>\n",
       "    </tr>\n",
       "    <tr>\n",
       "      <th>std</th>\n",
       "      <td>33.712030</td>\n",
       "      <td>88.540199</td>\n",
       "      <td>31.082794</td>\n",
       "      <td>24.702338</td>\n",
       "      <td>38.869836</td>\n",
       "      <td>5.240855</td>\n",
       "      <td>7.335810e+01</td>\n",
       "    </tr>\n",
       "    <tr>\n",
       "      <th>min</th>\n",
       "      <td>-54.800000</td>\n",
       "      <td>-175.200000</td>\n",
       "      <td>-33.450000</td>\n",
       "      <td>6.000000</td>\n",
       "      <td>0.000000</td>\n",
       "      <td>0.200000</td>\n",
       "      <td>1.614940e+09</td>\n",
       "    </tr>\n",
       "    <tr>\n",
       "      <th>25%</th>\n",
       "      <td>-9.016350</td>\n",
       "      <td>-58.088650</td>\n",
       "      <td>33.405000</td>\n",
       "      <td>54.500000</td>\n",
       "      <td>1.000000</td>\n",
       "      <td>4.000000</td>\n",
       "      <td>1.614941e+09</td>\n",
       "    </tr>\n",
       "    <tr>\n",
       "      <th>50%</th>\n",
       "      <td>20.894700</td>\n",
       "      <td>20.916700</td>\n",
       "      <td>64.720000</td>\n",
       "      <td>73.000000</td>\n",
       "      <td>40.000000</td>\n",
       "      <td>7.340000</td>\n",
       "      <td>1.614941e+09</td>\n",
       "    </tr>\n",
       "    <tr>\n",
       "      <th>75%</th>\n",
       "      <td>46.301650</td>\n",
       "      <td>94.750000</td>\n",
       "      <td>78.965000</td>\n",
       "      <td>87.000000</td>\n",
       "      <td>86.000000</td>\n",
       "      <td>11.500000</td>\n",
       "      <td>1.614941e+09</td>\n",
       "    </tr>\n",
       "    <tr>\n",
       "      <th>max</th>\n",
       "      <td>78.218600</td>\n",
       "      <td>178.416700</td>\n",
       "      <td>102.200000</td>\n",
       "      <td>100.000000</td>\n",
       "      <td>100.000000</td>\n",
       "      <td>27.470000</td>\n",
       "      <td>1.614941e+09</td>\n",
       "    </tr>\n",
       "  </tbody>\n",
       "</table>\n",
       "</div>"
      ],
      "text/plain": [
       "              lat         lng    max_temp    humidity  cloudiness  wind_speed  \\\n",
       "count  571.000000  571.000000  571.000000  571.000000  571.000000  571.000000   \n",
       "mean    18.568742   18.811158   55.369475   67.155867   46.302977    8.253240   \n",
       "std     33.712030   88.540199   31.082794   24.702338   38.869836    5.240855   \n",
       "min    -54.800000 -175.200000  -33.450000    6.000000    0.000000    0.200000   \n",
       "25%     -9.016350  -58.088650   33.405000   54.500000    1.000000    4.000000   \n",
       "50%     20.894700   20.916700   64.720000   73.000000   40.000000    7.340000   \n",
       "75%     46.301650   94.750000   78.965000   87.000000   86.000000   11.500000   \n",
       "max     78.218600  178.416700  102.200000  100.000000  100.000000   27.470000   \n",
       "\n",
       "               date  \n",
       "count  5.710000e+02  \n",
       "mean   1.614941e+09  \n",
       "std    7.335810e+01  \n",
       "min    1.614940e+09  \n",
       "25%    1.614941e+09  \n",
       "50%    1.614941e+09  \n",
       "75%    1.614941e+09  \n",
       "max    1.614941e+09  "
      ]
     },
     "execution_count": 134,
     "metadata": {},
     "output_type": "execute_result"
    }
   ],
   "source": [
    "#inspect data\n",
    "weather_data.describe()"
   ]
  },
  {
   "cell_type": "code",
   "execution_count": null,
   "metadata": {},
   "outputs": [],
   "source": []
  },
  {
   "cell_type": "markdown",
   "metadata": {},
   "source": [
    "## Inspect the data and remove the cities where the humidity > 100%.\n",
    "----\n",
    "Skip this step if there are no cities that have humidity > 100%. "
   ]
  },
  {
   "cell_type": "code",
   "execution_count": 138,
   "metadata": {},
   "outputs": [],
   "source": [
    "# check for humidity greater than 100%\n",
    "clean_city_data = weather_data[weather_data['humidity'] <= 100]"
   ]
  },
  {
   "cell_type": "code",
   "execution_count": 136,
   "metadata": {},
   "outputs": [],
   "source": [
    "#  Get the indices of cities that have humidity over 100%.\n"
   ]
  },
  {
   "cell_type": "code",
   "execution_count": 139,
   "metadata": {},
   "outputs": [
    {
     "data": {
      "text/html": [
       "<div>\n",
       "<style scoped>\n",
       "    .dataframe tbody tr th:only-of-type {\n",
       "        vertical-align: middle;\n",
       "    }\n",
       "\n",
       "    .dataframe tbody tr th {\n",
       "        vertical-align: top;\n",
       "    }\n",
       "\n",
       "    .dataframe thead th {\n",
       "        text-align: right;\n",
       "    }\n",
       "</style>\n",
       "<table border=\"1\" class=\"dataframe\">\n",
       "  <thead>\n",
       "    <tr style=\"text-align: right;\">\n",
       "      <th></th>\n",
       "      <th>city</th>\n",
       "      <th>lat</th>\n",
       "      <th>lng</th>\n",
       "      <th>max_temp</th>\n",
       "      <th>humidity</th>\n",
       "      <th>cloudiness</th>\n",
       "      <th>wind_speed</th>\n",
       "      <th>country</th>\n",
       "      <th>date</th>\n",
       "    </tr>\n",
       "  </thead>\n",
       "  <tbody>\n",
       "    <tr>\n",
       "      <th>0</th>\n",
       "      <td>Ilulissat</td>\n",
       "      <td>69.2167</td>\n",
       "      <td>-51.1000</td>\n",
       "      <td>21.20</td>\n",
       "      <td>68</td>\n",
       "      <td>20</td>\n",
       "      <td>5.75</td>\n",
       "      <td>GL</td>\n",
       "      <td>1614940588</td>\n",
       "    </tr>\n",
       "    <tr>\n",
       "      <th>1</th>\n",
       "      <td>North Bend</td>\n",
       "      <td>43.4065</td>\n",
       "      <td>-124.2243</td>\n",
       "      <td>53.60</td>\n",
       "      <td>54</td>\n",
       "      <td>90</td>\n",
       "      <td>13.80</td>\n",
       "      <td>US</td>\n",
       "      <td>1614940467</td>\n",
       "    </tr>\n",
       "    <tr>\n",
       "      <th>2</th>\n",
       "      <td>Ondjiva</td>\n",
       "      <td>-17.0667</td>\n",
       "      <td>15.7333</td>\n",
       "      <td>87.80</td>\n",
       "      <td>30</td>\n",
       "      <td>20</td>\n",
       "      <td>5.75</td>\n",
       "      <td>AO</td>\n",
       "      <td>1614940588</td>\n",
       "    </tr>\n",
       "    <tr>\n",
       "      <th>3</th>\n",
       "      <td>East London</td>\n",
       "      <td>-33.0153</td>\n",
       "      <td>27.9116</td>\n",
       "      <td>75.20</td>\n",
       "      <td>60</td>\n",
       "      <td>20</td>\n",
       "      <td>16.11</td>\n",
       "      <td>ZA</td>\n",
       "      <td>1614940588</td>\n",
       "    </tr>\n",
       "    <tr>\n",
       "      <th>4</th>\n",
       "      <td>Krutikha</td>\n",
       "      <td>53.9599</td>\n",
       "      <td>81.2093</td>\n",
       "      <td>24.04</td>\n",
       "      <td>83</td>\n",
       "      <td>81</td>\n",
       "      <td>17.72</td>\n",
       "      <td>RU</td>\n",
       "      <td>1614940589</td>\n",
       "    </tr>\n",
       "  </tbody>\n",
       "</table>\n",
       "</div>"
      ],
      "text/plain": [
       "          city      lat       lng  max_temp  humidity  cloudiness  wind_speed  \\\n",
       "0    Ilulissat  69.2167  -51.1000     21.20        68          20        5.75   \n",
       "1   North Bend  43.4065 -124.2243     53.60        54          90       13.80   \n",
       "2      Ondjiva -17.0667   15.7333     87.80        30          20        5.75   \n",
       "3  East London -33.0153   27.9116     75.20        60          20       16.11   \n",
       "4     Krutikha  53.9599   81.2093     24.04        83          81       17.72   \n",
       "\n",
       "  country        date  \n",
       "0      GL  1614940588  \n",
       "1      US  1614940467  \n",
       "2      AO  1614940588  \n",
       "3      ZA  1614940588  \n",
       "4      RU  1614940589  "
      ]
     },
     "execution_count": 139,
     "metadata": {},
     "output_type": "execute_result"
    }
   ],
   "source": [
    "# Make a new DataFrame equal to the city data to drop all humidity outliers by index.\n",
    "# Passing \"inplace=False\" will make a copy of the city_data DataFrame, which we call \"clean_city_data\".\n",
    "clean_city_data.head()"
   ]
  },
  {
   "cell_type": "code",
   "execution_count": 187,
   "metadata": {},
   "outputs": [],
   "source": [
    "# Export dataframe to .csv file\n",
    "clean_city_data.to_csv(\"Output/city_weather_data.csv\", index=False, header=True)"
   ]
  },
  {
   "cell_type": "markdown",
   "metadata": {},
   "source": [
    "## Plotting the Data\n",
    "* Use proper labeling of the plots using plot titles (including date of analysis) and axes labels.\n",
    "* Save the plotted figures as .pngs."
   ]
  },
  {
   "cell_type": "markdown",
   "metadata": {},
   "source": [
    "## Latitude vs. Temperature Plot"
   ]
  },
  {
   "cell_type": "code",
   "execution_count": 147,
   "metadata": {},
   "outputs": [
    {
     "data": {
      "image/png": "[encoded data removed]",
      "text/plain": [
       "<Figure size 432x288 with 1 Axes>"
      ]
     },
     "metadata": {
      "needs_background": "light"
     },
     "output_type": "display_data"
    }
   ],
   "source": [
    "temp_scatter = clean_city_data.plot.scatter(x='lat', y='max_temp', title= \"Max Temperature vs. City Latitude\");\n",
    "temp_scatter.set_xlabel(\"Latitude (deg)\")\n",
    "temp_scatter.set_ylabel(\"Max Temperature (degF)\")\n",
    "temp_scatter.grid()"
   ]
  },
  {
   "cell_type": "markdown",
   "metadata": {
    "scrolled": true
   },
   "source": [
    "This plot displays a scatter of city maximum temperature vs. latitude."
   ]
  },
  {
   "cell_type": "markdown",
   "metadata": {},
   "source": [
    "## Latitude vs. Humidity Plot"
   ]
  },
  {
   "cell_type": "code",
   "execution_count": 149,
   "metadata": {},
   "outputs": [
    {
     "data": {
      "image/png": "[encoded data removed]",
      "text/plain": [
       "<Figure size 432x288 with 1 Axes>"
      ]
     },
     "metadata": {
      "needs_background": "light"
     },
     "output_type": "display_data"
    }
   ],
   "source": [
    "hum_scatter = clean_city_data.plot.scatter(x='lat', y='humidity', title= \"Humidity vs. City Latitude\");\n",
    "hum_scatter.set_xlabel(\"Latitude (deg)\")\n",
    "hum_scatter.set_ylabel(\"Humidity (%)\")\n",
    "hum_scatter.grid()"
   ]
  },
  {
   "cell_type": "markdown",
   "metadata": {},
   "source": [
    "This plot displays a scatter of city humidity vs. latitude."
   ]
  },
  {
   "cell_type": "markdown",
   "metadata": {},
   "source": [
    "## Latitude vs. Cloudiness Plot"
   ]
  },
  {
   "cell_type": "code",
   "execution_count": 150,
   "metadata": {},
   "outputs": [
    {
     "data": {
      "image/png": "[encoded data removed]",
      "text/plain": [
       "<Figure size 432x288 with 1 Axes>"
      ]
     },
     "metadata": {
      "needs_background": "light"
     },
     "output_type": "display_data"
    }
   ],
   "source": [
    "cloud_scatter = clean_city_data.plot.scatter(x='lat', y='cloudiness', title= \"Cloudiness vs. City Latitude\");\n",
    "cloud_scatter.set_xlabel(\"Latitude (deg)\")\n",
    "cloud_scatter.set_ylabel(\"Cloudiness (%)\")\n",
    "cloud_scatter.grid()"
   ]
  },
  {
   "cell_type": "markdown",
   "metadata": {},
   "source": [
    "This plot displays a scatter of city cloudiness vs. latitude."
   ]
  },
  {
   "cell_type": "markdown",
   "metadata": {},
   "source": [
    "## Latitude vs. Wind Speed Plot"
   ]
  },
  {
   "cell_type": "code",
   "execution_count": 153,
   "metadata": {},
   "outputs": [
    {
     "data": {
      "image/png": "[encoded data removed]",
      "text/plain": [
       "<Figure size 432x288 with 1 Axes>"
      ]
     },
     "metadata": {
      "needs_background": "light"
     },
     "output_type": "display_data"
    }
   ],
   "source": [
    "wind_scatter = clean_city_data.plot.scatter(x='lat', y='wind_speed', title= \"Wind Speed vs. City Latitude\");\n",
    "wind_scatter.set_xlabel(\"Latitude (deg)\")\n",
    "wind_scatter.set_ylabel(\"Wind Speed (MPH)\")\n",
    "wind_scatter.grid()"
   ]
  },
  {
   "cell_type": "markdown",
   "metadata": {},
   "source": [
    "This plot displays a scatter of city wind speeds vs. latitude."
   ]
  },
  {
   "cell_type": "markdown",
   "metadata": {},
   "source": [
    "## Linear Regression"
   ]
  },
  {
   "cell_type": "code",
   "execution_count": 158,
   "metadata": {},
   "outputs": [],
   "source": [
    "north_city_data=clean_city_data[clean_city_data['lat'] > 0] \n",
    "#print(north_city_data['lat'].min())\n",
    "south_city_data=clean_city_data[clean_city_data['lat'] <= 0] \n",
    "#print(south_city_data['lat'].max())"
   ]
  },
  {
   "cell_type": "markdown",
   "metadata": {},
   "source": [
    "####  Northern Hemisphere - Max Temp vs. Latitude Linear Regression"
   ]
  },
  {
   "cell_type": "code",
   "execution_count": 173,
   "metadata": {},
   "outputs": [
    {
     "name": "stdout",
     "output_type": "stream",
     "text": [
      "The R^2 value is: 0.7671225301444137\n"
     ]
    },
    {
     "data": {
      "image/png": "[encoded data removed]",
      "text/plain": [
       "<Figure size 432x288 with 1 Axes>"
      ]
     },
     "metadata": {
      "needs_background": "light"
     },
     "output_type": "display_data"
    }
   ],
   "source": [
    "x_values = north_city_data['lat']\n",
    "y_values = north_city_data['max_temp']\n",
    "(slope, intercept, rvalue, pvalue, stderr) = linregress(x_values, y_values)\n",
    "regress_values = x_values * slope + intercept\n",
    "line_eq = \"y = \" + str(round(slope,2)) + \"x + \" + str(round(intercept,2))\n",
    "plt.scatter(x_values,y_values)\n",
    "plt.plot(x_values,regress_values,\"r-\")\n",
    "plt.annotate(line_eq,(0,0),fontsize=15,color=\"red\")\n",
    "plt.xlabel(\"Latitude (deg)\")\n",
    "plt.ylabel(\"Max Temperature (degF)\")\n",
    "print('The R value is: ' + str(rvalue))\n",
    "print('The R^2 value is: ' + str(rvalue**2))\n",
    "plt.show()"
   ]
  },
  {
   "cell_type": "markdown",
   "metadata": {},
   "source": [
    "For the northern hemisphere max temperatures, there seems to be a clear inverse correlation between latitude and max temperature."
   ]
  },
  {
   "cell_type": "markdown",
   "metadata": {},
   "source": [
    "####  Southern Hemisphere - Max Temp vs. Latitude Linear Regression"
   ]
  },
  {
   "cell_type": "code",
   "execution_count": null,
   "metadata": {},
   "outputs": [],
   "source": []
  },
  {
   "cell_type": "code",
   "execution_count": 176,
   "metadata": {
    "scrolled": false
   },
   "outputs": [
    {
     "name": "stdout",
     "output_type": "stream",
     "text": [
      "The R value is: 0.6364241806381608\n",
      "The R^2 value is: 0.40503573770095425\n"
     ]
    },
    {
     "data": {
      "image/png": "[encoded data removed]",
      "text/plain": [
       "<Figure size 432x288 with 1 Axes>"
      ]
     },
     "metadata": {
      "needs_background": "light"
     },
     "output_type": "display_data"
    }
   ],
   "source": [
    "x_values = south_city_data['lat']\n",
    "y_values = south_city_data['max_temp']\n",
    "(slope, intercept, rvalue, pvalue, stderr) = linregress(x_values, y_values)\n",
    "regress_values = x_values * slope + intercept\n",
    "line_eq = \"y = \" + str(round(slope,2)) + \"x + \" + str(round(intercept,2))\n",
    "plt.scatter(x_values,y_values)\n",
    "plt.plot(x_values,regress_values,\"r-\")\n",
    "plt.annotate(line_eq,(-30,50),fontsize=15,color=\"red\")\n",
    "plt.xlabel(\"Latitude (deg)\")\n",
    "plt.ylabel(\"Max Temperature (degF)\")\n",
    "print('The R value is: ' + str(rvalue))\n",
    "print('The R^2 value is: ' + str(rvalue**2))\n",
    "plt.show()"
   ]
  },
  {
   "cell_type": "markdown",
   "metadata": {},
   "source": [
    "The southern hemisphere max temperature shows marginal correlation with latitude.  As shown in the plot, there are a few outliers that could be cleaned, and resampling (i.e. bootstrapping) the data set can yield a more representative sampling of the dataset from which a more confident conclusion can be made."
   ]
  },
  {
   "cell_type": "markdown",
   "metadata": {},
   "source": [
    "####  Northern Hemisphere - Humidity (%) vs. Latitude Linear Regression"
   ]
  },
  {
   "cell_type": "code",
   "execution_count": 177,
   "metadata": {},
   "outputs": [
    {
     "name": "stdout",
     "output_type": "stream",
     "text": [
      "The R value is: 0.4213927345568427\n",
      "The R^2 value is: 0.17757183673729368\n"
     ]
    },
    {
     "data": {
      "image/png": "[encoded data removed]",
      "text/plain": [
       "<Figure size 432x288 with 1 Axes>"
      ]
     },
     "metadata": {
      "needs_background": "light"
     },
     "output_type": "display_data"
    }
   ],
   "source": [
    "x_values = north_city_data['lat']\n",
    "y_values = north_city_data['humidity']\n",
    "(slope, intercept, rvalue, pvalue, stderr) = linregress(x_values, y_values)\n",
    "regress_values = x_values * slope + intercept\n",
    "line_eq = \"y = \" + str(round(slope,2)) + \"x + \" + str(round(intercept,2))\n",
    "plt.scatter(x_values,y_values)\n",
    "plt.plot(x_values,regress_values,\"r-\")\n",
    "plt.annotate(line_eq,(45,15),fontsize=15,color=\"red\")\n",
    "plt.xlabel(\"Latitude (deg)\")\n",
    "plt.ylabel(\"Humidity (%)\")\n",
    "print('The R value is: ' + str(rvalue))\n",
    "print('The R^2 value is: ' + str(rvalue**2))\n",
    "plt.show()"
   ]
  },
  {
   "cell_type": "markdown",
   "metadata": {},
   "source": [
    "For the northern hemisphere, there is very little correlation between latitude and humidity."
   ]
  },
  {
   "cell_type": "markdown",
   "metadata": {},
   "source": [
    "####  Southern Hemisphere - Humidity (%) vs. Latitude Linear Regression"
   ]
  },
  {
   "cell_type": "code",
   "execution_count": 178,
   "metadata": {},
   "outputs": [
    {
     "name": "stdout",
     "output_type": "stream",
     "text": [
      "The R value is: 0.13595329450429355\n",
      "The R^2 value is: 0.018483298286571175\n"
     ]
    },
    {
     "data": {
      "image/png": "[encoded data removed]",
      "text/plain": [
       "<Figure size 432x288 with 1 Axes>"
      ]
     },
     "metadata": {
      "needs_background": "light"
     },
     "output_type": "display_data"
    }
   ],
   "source": [
    "x_values = south_city_data['lat']\n",
    "y_values = south_city_data['humidity']\n",
    "(slope, intercept, rvalue, pvalue, stderr) = linregress(x_values, y_values)\n",
    "regress_values = x_values * slope + intercept\n",
    "line_eq = \"y = \" + str(round(slope,2)) + \"x + \" + str(round(intercept,2))\n",
    "plt.scatter(x_values,y_values)\n",
    "plt.plot(x_values,regress_values,\"r-\")\n",
    "plt.annotate(line_eq,(-55,20),fontsize=15,color=\"red\")\n",
    "plt.xlabel(\"Latitude (deg)\")\n",
    "plt.ylabel(\"Humidity (%)\")\n",
    "print('The R value is: ' + str(rvalue))\n",
    "print('The R^2 value is: ' + str(rvalue**2))\n",
    "plt.show()"
   ]
  },
  {
   "cell_type": "markdown",
   "metadata": {},
   "source": [
    "For the southern hemisphere, there is very little correlation between latitude and humidity."
   ]
  },
  {
   "cell_type": "markdown",
   "metadata": {},
   "source": [
    "####  Northern Hemisphere - Cloudiness (%) vs. Latitude Linear Regression"
   ]
  },
  {
   "cell_type": "code",
   "execution_count": 180,
   "metadata": {},
   "outputs": [
    {
     "name": "stdout",
     "output_type": "stream",
     "text": [
      "The R value is: 0.3121621341806498\n",
      "The R^2 value is: 0.09744519801621801\n"
     ]
    },
    {
     "data": {
      "image/png": "[encoded data removed]",
      "text/plain": [
       "<Figure size 432x288 with 1 Axes>"
      ]
     },
     "metadata": {
      "needs_background": "light"
     },
     "output_type": "display_data"
    }
   ],
   "source": [
    "x_values = north_city_data['lat']\n",
    "y_values = north_city_data['cloudiness']\n",
    "(slope, intercept, rvalue, pvalue, stderr) = linregress(x_values, y_values)\n",
    "regress_values = x_values * slope + intercept\n",
    "line_eq = \"y = \" + str(round(slope,2)) + \"x + \" + str(round(intercept,2))\n",
    "plt.scatter(x_values,y_values)\n",
    "plt.plot(x_values,regress_values,\"r-\")\n",
    "plt.annotate(line_eq,(45,10),fontsize=15,color=\"red\")\n",
    "plt.xlabel(\"Latitude (deg)\")\n",
    "plt.ylabel(\"Cloudiness (%)\")\n",
    "print('The R value is: ' + str(rvalue))\n",
    "print('The R^2 value is: ' + str(rvalue**2))\n",
    "plt.show()"
   ]
  },
  {
   "cell_type": "markdown",
   "metadata": {},
   "source": [
    "For the northern hemisphere, there is very little correlation between latitude and cloudiness."
   ]
  },
  {
   "cell_type": "markdown",
   "metadata": {},
   "source": [
    "####  Southern Hemisphere - Cloudiness (%) vs. Latitude Linear Regression"
   ]
  },
  {
   "cell_type": "code",
   "execution_count": 181,
   "metadata": {},
   "outputs": [
    {
     "name": "stdout",
     "output_type": "stream",
     "text": [
      "The R value is: 0.3223811541962872\n",
      "The R^2 value is: 0.10392960858093031\n"
     ]
    },
    {
     "data": {
      "image/png": "[encoded data removed]",
      "text/plain": [
       "<Figure size 432x288 with 1 Axes>"
      ]
     },
     "metadata": {
      "needs_background": "light"
     },
     "output_type": "display_data"
    }
   ],
   "source": [
    "x_values = south_city_data['lat']\n",
    "y_values = south_city_data['cloudiness']\n",
    "(slope, intercept, rvalue, pvalue, stderr) = linregress(x_values, y_values)\n",
    "regress_values = x_values * slope + intercept\n",
    "line_eq = \"y = \" + str(round(slope,2)) + \"x + \" + str(round(intercept,2))\n",
    "plt.scatter(x_values,y_values)\n",
    "plt.plot(x_values,regress_values,\"r-\")\n",
    "plt.annotate(line_eq,(45,10),fontsize=15,color=\"red\")\n",
    "plt.xlabel(\"Latitude (deg)\")\n",
    "plt.ylabel(\"Cloudiness (%)\")\n",
    "print('The R value is: ' + str(rvalue))\n",
    "print('The R^2 value is: ' + str(rvalue**2))\n",
    "plt.show()"
   ]
  },
  {
   "cell_type": "markdown",
   "metadata": {},
   "source": [
    "For the southern hemisphere, there is very little correlation between latitude and cloudiness."
   ]
  },
  {
   "cell_type": "markdown",
   "metadata": {},
   "source": [
    "####  Northern Hemisphere - Wind Speed (mph) vs. Latitude Linear Regression"
   ]
  },
  {
   "cell_type": "code",
   "execution_count": 183,
   "metadata": {
    "scrolled": true
   },
   "outputs": [
    {
     "name": "stdout",
     "output_type": "stream",
     "text": [
      "The R value is: 0.024103228543184446\n",
      "The R^2 value is: 0.0005809656262049814\n"
     ]
    },
    {
     "data": {
      "image/png": "[encoded data removed]",
      "text/plain": [
       "<Figure size 432x288 with 1 Axes>"
      ]
     },
     "metadata": {
      "needs_background": "light"
     },
     "output_type": "display_data"
    }
   ],
   "source": [
    "x_values = north_city_data['lat']\n",
    "y_values = north_city_data['wind_speed']\n",
    "(slope, intercept, rvalue, pvalue, stderr) = linregress(x_values, y_values)\n",
    "regress_values = x_values * slope + intercept\n",
    "line_eq = \"y = \" + str(round(slope,2)) + \"x + \" + str(round(intercept,2))\n",
    "plt.scatter(x_values,y_values)\n",
    "plt.plot(x_values,regress_values,\"r-\")\n",
    "plt.annotate(line_eq,(10,25),fontsize=15,color=\"red\")\n",
    "plt.xlabel(\"Latitude (deg)\")\n",
    "plt.ylabel(\"Wind Speed (MPH)\")\n",
    "print('The R value is: ' + str(rvalue))\n",
    "print('The R^2 value is: ' + str(rvalue**2))\n",
    "plt.show()"
   ]
  },
  {
   "cell_type": "markdown",
   "metadata": {},
   "source": [
    "For the northern hemisphere, there is very little correlation between latitude and wind speed."
   ]
  },
  {
   "cell_type": "markdown",
   "metadata": {},
   "source": [
    "####  Southern Hemisphere - Wind Speed (mph) vs. Latitude Linear Regression"
   ]
  },
  {
   "cell_type": "code",
   "execution_count": 185,
   "metadata": {},
   "outputs": [
    {
     "name": "stdout",
     "output_type": "stream",
     "text": [
      "The R value is: -0.2440900842655118\n",
      "The R^2 value is: 0.05957996923674465\n"
     ]
    },
    {
     "data": {
      "image/png": "[encoded data removed]",
      "text/plain": [
       "<Figure size 432x288 with 1 Axes>"
      ]
     },
     "metadata": {
      "needs_background": "light"
     },
     "output_type": "display_data"
    }
   ],
   "source": [
    "x_values = south_city_data['lat']\n",
    "y_values = south_city_data['wind_speed']\n",
    "(slope, intercept, rvalue, pvalue, stderr) = linregress(x_values, y_values)\n",
    "regress_values = x_values * slope + intercept\n",
    "line_eq = \"y = \" + str(round(slope,2)) + \"x + \" + str(round(intercept,2))\n",
    "plt.scatter(x_values,y_values)\n",
    "plt.plot(x_values,regress_values,\"r-\")\n",
    "plt.annotate(line_eq,(-50,25),fontsize=15,color=\"red\")\n",
    "plt.xlabel(\"Latitude (deg)\")\n",
    "plt.ylabel(\"Wind Speed (MPH)\")\n",
    "print('The R value is: ' + str(rvalue))\n",
    "print('The R^2 value is: ' + str(rvalue**2))\n",
    "plt.show()"
   ]
  },
  {
   "cell_type": "markdown",
   "metadata": {},
   "source": [
    "For the southern hemisphere, there is very little correlation between latitude and wind speed."
   ]
  },
  {
   "cell_type": "code",
   "execution_count": null,
   "metadata": {},
   "outputs": [],
   "source": []
  }
 ],
 "metadata": {
  "anaconda-cloud": {},
  "kernel_info": {
   "name": "python3"
  },
  "kernelspec": {
   "display_name": "Python 3",
   "language": "python",
   "name": "python3"
  },
  "language_info": {
   "codemirror_mode": {
    "name": "ipython",
    "version": 3
   },
   "file_extension": ".py",
   "mimetype": "text/x-python",
   "name": "python",
   "nbconvert_exporter": "python",
   "pygments_lexer": "ipython3",
   "version": "3.8.5"
  },
  "latex_envs": {
   "LaTeX_envs_menu_present": true,
   "autoclose": false,
   "autocomplete": true,
   "bibliofile": "biblio.bib",
   "cite_by": "apalike",
   "current_citInitial": 1,
   "eqLabelWithNumbers": true,
   "eqNumInitial": 1,
   "hotkeys": {
    "equation": "Ctrl-E",
    "itemize": "Ctrl-I"
   },
   "labels_anchors": false,
   "latex_user_defs": false,
   "report_style_numbering": false,
   "user_envs_cfg": false
  },
  "nteract": {
   "version": "0.12.3"
  }
 },
 "nbformat": 4,
 "nbformat_minor": 2
}
